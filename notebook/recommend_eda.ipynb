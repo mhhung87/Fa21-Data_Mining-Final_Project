{
  "cells": [
    {
      "cell_type": "code",
      "execution_count": 1,
      "metadata": {
        "id": "JVji7JXuJjc2"
      },
      "outputs": [],
      "source": [
        "import numpy as np\n",
        "import pandas as pd\n",
        "import matplotlib.pyplot as plt\n",
        "import seaborn as sns\n",
        "import spotipy\n",
        "import os\n",
        "# from google.colab import files\n",
        "# from google.colab import drive\n",
        "\n",
        "plt.rcParams.update({'font.size': 22})\n",
        "%matplotlib inline\n",
        "plt.style.use('seaborn')\n",
        "\n",
        "# drive.mount('/content/drive')"
      ]
    },
    {
      "cell_type": "code",
      "execution_count": 2,
      "metadata": {
        "colab": {
          "base_uri": "https://localhost:8080/",
          "height": 701
        },
        "id": "2n6n4yG0QH0q",
        "outputId": "16c52a93-fbd0-40ea-9383-d104dac095be"
      },
      "outputs": [
        {
          "data": {
            "text/html": [
              "<div>\n",
              "<style scoped>\n",
              "    .dataframe tbody tr th:only-of-type {\n",
              "        vertical-align: middle;\n",
              "    }\n",
              "\n",
              "    .dataframe tbody tr th {\n",
              "        vertical-align: top;\n",
              "    }\n",
              "\n",
              "    .dataframe thead th {\n",
              "        text-align: right;\n",
              "    }\n",
              "</style>\n",
              "<table border=\"1\" class=\"dataframe\">\n",
              "  <thead>\n",
              "    <tr style=\"text-align: right;\">\n",
              "      <th></th>\n",
              "      <th>valence</th>\n",
              "      <th>year</th>\n",
              "      <th>acousticness</th>\n",
              "      <th>artists</th>\n",
              "      <th>danceability</th>\n",
              "      <th>duration_ms</th>\n",
              "      <th>energy</th>\n",
              "      <th>explicit</th>\n",
              "      <th>id</th>\n",
              "      <th>instrumentalness</th>\n",
              "      <th>key</th>\n",
              "      <th>liveness</th>\n",
              "      <th>loudness</th>\n",
              "      <th>mode</th>\n",
              "      <th>name</th>\n",
              "      <th>popularity</th>\n",
              "      <th>release_date</th>\n",
              "      <th>speechiness</th>\n",
              "      <th>tempo</th>\n",
              "    </tr>\n",
              "  </thead>\n",
              "  <tbody>\n",
              "    <tr>\n",
              "      <th>0</th>\n",
              "      <td>0.0594</td>\n",
              "      <td>1921</td>\n",
              "      <td>0.98200</td>\n",
              "      <td>['Sergei Rachmaninoff', 'James Levine', 'Berli...</td>\n",
              "      <td>0.279</td>\n",
              "      <td>831667</td>\n",
              "      <td>0.211</td>\n",
              "      <td>0</td>\n",
              "      <td>4BJqT0PrAfrxzMOxytFOIz</td>\n",
              "      <td>0.878000</td>\n",
              "      <td>10</td>\n",
              "      <td>0.6650</td>\n",
              "      <td>-20.096</td>\n",
              "      <td>1</td>\n",
              "      <td>Piano Concerto No. 3 in D Minor, Op. 30: III. ...</td>\n",
              "      <td>4</td>\n",
              "      <td>1921</td>\n",
              "      <td>0.0366</td>\n",
              "      <td>80.954</td>\n",
              "    </tr>\n",
              "    <tr>\n",
              "      <th>1</th>\n",
              "      <td>0.9630</td>\n",
              "      <td>1921</td>\n",
              "      <td>0.73200</td>\n",
              "      <td>['Dennis Day']</td>\n",
              "      <td>0.819</td>\n",
              "      <td>180533</td>\n",
              "      <td>0.341</td>\n",
              "      <td>0</td>\n",
              "      <td>7xPhfUan2yNtyFG0cUWkt8</td>\n",
              "      <td>0.000000</td>\n",
              "      <td>7</td>\n",
              "      <td>0.1600</td>\n",
              "      <td>-12.441</td>\n",
              "      <td>1</td>\n",
              "      <td>Clancy Lowered the Boom</td>\n",
              "      <td>5</td>\n",
              "      <td>1921</td>\n",
              "      <td>0.4150</td>\n",
              "      <td>60.936</td>\n",
              "    </tr>\n",
              "    <tr>\n",
              "      <th>2</th>\n",
              "      <td>0.0394</td>\n",
              "      <td>1921</td>\n",
              "      <td>0.96100</td>\n",
              "      <td>['KHP Kridhamardawa Karaton Ngayogyakarta Hadi...</td>\n",
              "      <td>0.328</td>\n",
              "      <td>500062</td>\n",
              "      <td>0.166</td>\n",
              "      <td>0</td>\n",
              "      <td>1o6I8BglA6ylDMrIELygv1</td>\n",
              "      <td>0.913000</td>\n",
              "      <td>3</td>\n",
              "      <td>0.1010</td>\n",
              "      <td>-14.850</td>\n",
              "      <td>1</td>\n",
              "      <td>Gati Bali</td>\n",
              "      <td>5</td>\n",
              "      <td>1921</td>\n",
              "      <td>0.0339</td>\n",
              "      <td>110.339</td>\n",
              "    </tr>\n",
              "    <tr>\n",
              "      <th>3</th>\n",
              "      <td>0.1650</td>\n",
              "      <td>1921</td>\n",
              "      <td>0.96700</td>\n",
              "      <td>['Frank Parker']</td>\n",
              "      <td>0.275</td>\n",
              "      <td>210000</td>\n",
              "      <td>0.309</td>\n",
              "      <td>0</td>\n",
              "      <td>3ftBPsC5vPBKxYSee08FDH</td>\n",
              "      <td>0.000028</td>\n",
              "      <td>5</td>\n",
              "      <td>0.3810</td>\n",
              "      <td>-9.316</td>\n",
              "      <td>1</td>\n",
              "      <td>Danny Boy</td>\n",
              "      <td>3</td>\n",
              "      <td>1921</td>\n",
              "      <td>0.0354</td>\n",
              "      <td>100.109</td>\n",
              "    </tr>\n",
              "    <tr>\n",
              "      <th>4</th>\n",
              "      <td>0.2530</td>\n",
              "      <td>1921</td>\n",
              "      <td>0.95700</td>\n",
              "      <td>['Phil Regan']</td>\n",
              "      <td>0.418</td>\n",
              "      <td>166693</td>\n",
              "      <td>0.193</td>\n",
              "      <td>0</td>\n",
              "      <td>4d6HGyGT8e121BsdKmw9v6</td>\n",
              "      <td>0.000002</td>\n",
              "      <td>3</td>\n",
              "      <td>0.2290</td>\n",
              "      <td>-10.096</td>\n",
              "      <td>1</td>\n",
              "      <td>When Irish Eyes Are Smiling</td>\n",
              "      <td>2</td>\n",
              "      <td>1921</td>\n",
              "      <td>0.0380</td>\n",
              "      <td>101.665</td>\n",
              "    </tr>\n",
              "    <tr>\n",
              "      <th>...</th>\n",
              "      <td>...</td>\n",
              "      <td>...</td>\n",
              "      <td>...</td>\n",
              "      <td>...</td>\n",
              "      <td>...</td>\n",
              "      <td>...</td>\n",
              "      <td>...</td>\n",
              "      <td>...</td>\n",
              "      <td>...</td>\n",
              "      <td>...</td>\n",
              "      <td>...</td>\n",
              "      <td>...</td>\n",
              "      <td>...</td>\n",
              "      <td>...</td>\n",
              "      <td>...</td>\n",
              "      <td>...</td>\n",
              "      <td>...</td>\n",
              "      <td>...</td>\n",
              "      <td>...</td>\n",
              "    </tr>\n",
              "    <tr>\n",
              "      <th>170648</th>\n",
              "      <td>0.6080</td>\n",
              "      <td>2020</td>\n",
              "      <td>0.08460</td>\n",
              "      <td>['Anuel AA', 'Daddy Yankee', 'KAROL G', 'Ozuna...</td>\n",
              "      <td>0.786</td>\n",
              "      <td>301714</td>\n",
              "      <td>0.808</td>\n",
              "      <td>0</td>\n",
              "      <td>0KkIkfsLEJbrcIhYsCL7L5</td>\n",
              "      <td>0.000289</td>\n",
              "      <td>7</td>\n",
              "      <td>0.0822</td>\n",
              "      <td>-3.702</td>\n",
              "      <td>1</td>\n",
              "      <td>China</td>\n",
              "      <td>72</td>\n",
              "      <td>2020-05-29</td>\n",
              "      <td>0.0881</td>\n",
              "      <td>105.029</td>\n",
              "    </tr>\n",
              "    <tr>\n",
              "      <th>170649</th>\n",
              "      <td>0.7340</td>\n",
              "      <td>2020</td>\n",
              "      <td>0.20600</td>\n",
              "      <td>['Ashnikko']</td>\n",
              "      <td>0.717</td>\n",
              "      <td>150654</td>\n",
              "      <td>0.753</td>\n",
              "      <td>0</td>\n",
              "      <td>0OStKKAuXlxA0fMH54Qs6E</td>\n",
              "      <td>0.000000</td>\n",
              "      <td>7</td>\n",
              "      <td>0.1010</td>\n",
              "      <td>-6.020</td>\n",
              "      <td>1</td>\n",
              "      <td>Halloweenie III: Seven Days</td>\n",
              "      <td>68</td>\n",
              "      <td>2020-10-23</td>\n",
              "      <td>0.0605</td>\n",
              "      <td>137.936</td>\n",
              "    </tr>\n",
              "    <tr>\n",
              "      <th>170650</th>\n",
              "      <td>0.6370</td>\n",
              "      <td>2020</td>\n",
              "      <td>0.10100</td>\n",
              "      <td>['MAMAMOO']</td>\n",
              "      <td>0.634</td>\n",
              "      <td>211280</td>\n",
              "      <td>0.858</td>\n",
              "      <td>0</td>\n",
              "      <td>4BZXVFYCb76Q0Klojq4piV</td>\n",
              "      <td>0.000009</td>\n",
              "      <td>4</td>\n",
              "      <td>0.2580</td>\n",
              "      <td>-2.226</td>\n",
              "      <td>0</td>\n",
              "      <td>AYA</td>\n",
              "      <td>76</td>\n",
              "      <td>2020-11-03</td>\n",
              "      <td>0.0809</td>\n",
              "      <td>91.688</td>\n",
              "    </tr>\n",
              "    <tr>\n",
              "      <th>170651</th>\n",
              "      <td>0.1950</td>\n",
              "      <td>2020</td>\n",
              "      <td>0.00998</td>\n",
              "      <td>['Eminem']</td>\n",
              "      <td>0.671</td>\n",
              "      <td>337147</td>\n",
              "      <td>0.623</td>\n",
              "      <td>1</td>\n",
              "      <td>5SiZJoLXp3WOl3J4C8IK0d</td>\n",
              "      <td>0.000008</td>\n",
              "      <td>2</td>\n",
              "      <td>0.6430</td>\n",
              "      <td>-7.161</td>\n",
              "      <td>1</td>\n",
              "      <td>Darkness</td>\n",
              "      <td>70</td>\n",
              "      <td>2020-01-17</td>\n",
              "      <td>0.3080</td>\n",
              "      <td>75.055</td>\n",
              "    </tr>\n",
              "    <tr>\n",
              "      <th>170652</th>\n",
              "      <td>0.6420</td>\n",
              "      <td>2020</td>\n",
              "      <td>0.13200</td>\n",
              "      <td>['KEVVO', 'J Balvin']</td>\n",
              "      <td>0.856</td>\n",
              "      <td>189507</td>\n",
              "      <td>0.721</td>\n",
              "      <td>1</td>\n",
              "      <td>7HmnJHfs0BkFzX4x8j0hkl</td>\n",
              "      <td>0.004710</td>\n",
              "      <td>7</td>\n",
              "      <td>0.1820</td>\n",
              "      <td>-4.928</td>\n",
              "      <td>1</td>\n",
              "      <td>Billetes Azules (with J Balvin)</td>\n",
              "      <td>74</td>\n",
              "      <td>2020-10-16</td>\n",
              "      <td>0.1080</td>\n",
              "      <td>94.991</td>\n",
              "    </tr>\n",
              "  </tbody>\n",
              "</table>\n",
              "<p>170653 rows × 19 columns</p>\n",
              "</div>"
            ],
            "text/plain": [
              "        valence  year  acousticness  \\\n",
              "0        0.0594  1921       0.98200   \n",
              "1        0.9630  1921       0.73200   \n",
              "2        0.0394  1921       0.96100   \n",
              "3        0.1650  1921       0.96700   \n",
              "4        0.2530  1921       0.95700   \n",
              "...         ...   ...           ...   \n",
              "170648   0.6080  2020       0.08460   \n",
              "170649   0.7340  2020       0.20600   \n",
              "170650   0.6370  2020       0.10100   \n",
              "170651   0.1950  2020       0.00998   \n",
              "170652   0.6420  2020       0.13200   \n",
              "\n",
              "                                                  artists  danceability  \\\n",
              "0       ['Sergei Rachmaninoff', 'James Levine', 'Berli...         0.279   \n",
              "1                                          ['Dennis Day']         0.819   \n",
              "2       ['KHP Kridhamardawa Karaton Ngayogyakarta Hadi...         0.328   \n",
              "3                                        ['Frank Parker']         0.275   \n",
              "4                                          ['Phil Regan']         0.418   \n",
              "...                                                   ...           ...   \n",
              "170648  ['Anuel AA', 'Daddy Yankee', 'KAROL G', 'Ozuna...         0.786   \n",
              "170649                                       ['Ashnikko']         0.717   \n",
              "170650                                        ['MAMAMOO']         0.634   \n",
              "170651                                         ['Eminem']         0.671   \n",
              "170652                              ['KEVVO', 'J Balvin']         0.856   \n",
              "\n",
              "        duration_ms  energy  explicit                      id  \\\n",
              "0            831667   0.211         0  4BJqT0PrAfrxzMOxytFOIz   \n",
              "1            180533   0.341         0  7xPhfUan2yNtyFG0cUWkt8   \n",
              "2            500062   0.166         0  1o6I8BglA6ylDMrIELygv1   \n",
              "3            210000   0.309         0  3ftBPsC5vPBKxYSee08FDH   \n",
              "4            166693   0.193         0  4d6HGyGT8e121BsdKmw9v6   \n",
              "...             ...     ...       ...                     ...   \n",
              "170648       301714   0.808         0  0KkIkfsLEJbrcIhYsCL7L5   \n",
              "170649       150654   0.753         0  0OStKKAuXlxA0fMH54Qs6E   \n",
              "170650       211280   0.858         0  4BZXVFYCb76Q0Klojq4piV   \n",
              "170651       337147   0.623         1  5SiZJoLXp3WOl3J4C8IK0d   \n",
              "170652       189507   0.721         1  7HmnJHfs0BkFzX4x8j0hkl   \n",
              "\n",
              "        instrumentalness  key  liveness  loudness  mode  \\\n",
              "0               0.878000   10    0.6650   -20.096     1   \n",
              "1               0.000000    7    0.1600   -12.441     1   \n",
              "2               0.913000    3    0.1010   -14.850     1   \n",
              "3               0.000028    5    0.3810    -9.316     1   \n",
              "4               0.000002    3    0.2290   -10.096     1   \n",
              "...                  ...  ...       ...       ...   ...   \n",
              "170648          0.000289    7    0.0822    -3.702     1   \n",
              "170649          0.000000    7    0.1010    -6.020     1   \n",
              "170650          0.000009    4    0.2580    -2.226     0   \n",
              "170651          0.000008    2    0.6430    -7.161     1   \n",
              "170652          0.004710    7    0.1820    -4.928     1   \n",
              "\n",
              "                                                     name  popularity  \\\n",
              "0       Piano Concerto No. 3 in D Minor, Op. 30: III. ...           4   \n",
              "1                                 Clancy Lowered the Boom           5   \n",
              "2                                               Gati Bali           5   \n",
              "3                                               Danny Boy           3   \n",
              "4                             When Irish Eyes Are Smiling           2   \n",
              "...                                                   ...         ...   \n",
              "170648                                              China          72   \n",
              "170649                        Halloweenie III: Seven Days          68   \n",
              "170650                                                AYA          76   \n",
              "170651                                           Darkness          70   \n",
              "170652                    Billetes Azules (with J Balvin)          74   \n",
              "\n",
              "       release_date  speechiness    tempo  \n",
              "0              1921       0.0366   80.954  \n",
              "1              1921       0.4150   60.936  \n",
              "2              1921       0.0339  110.339  \n",
              "3              1921       0.0354  100.109  \n",
              "4              1921       0.0380  101.665  \n",
              "...             ...          ...      ...  \n",
              "170648   2020-05-29       0.0881  105.029  \n",
              "170649   2020-10-23       0.0605  137.936  \n",
              "170650   2020-11-03       0.0809   91.688  \n",
              "170651   2020-01-17       0.3080   75.055  \n",
              "170652   2020-10-16       0.1080   94.991  \n",
              "\n",
              "[170653 rows x 19 columns]"
            ]
          },
          "execution_count": 2,
          "metadata": {},
          "output_type": "execute_result"
        }
      ],
      "source": [
        "data = pd.read_csv('data.csv')\n",
        "data_year = pd.read_csv('data_by_year.csv')\n",
        "data_genres = pd.read_csv('data_by_genres.csv')\n",
        "data"
      ]
    },
    {
      "cell_type": "code",
      "execution_count": 4,
      "metadata": {
        "colab": {
          "base_uri": "https://localhost:8080/",
          "height": 424
        },
        "id": "RO-UoF00TVmX",
        "outputId": "02d97084-b535-4966-82ff-a7b400225148"
      },
      "outputs": [
        {
          "data": {
            "text/html": [
              "<div>\n",
              "<style scoped>\n",
              "    .dataframe tbody tr th:only-of-type {\n",
              "        vertical-align: middle;\n",
              "    }\n",
              "\n",
              "    .dataframe tbody tr th {\n",
              "        vertical-align: top;\n",
              "    }\n",
              "\n",
              "    .dataframe thead th {\n",
              "        text-align: right;\n",
              "    }\n",
              "</style>\n",
              "<table border=\"1\" class=\"dataframe\">\n",
              "  <thead>\n",
              "    <tr style=\"text-align: right;\">\n",
              "      <th></th>\n",
              "      <th>mode</th>\n",
              "      <th>year</th>\n",
              "      <th>acousticness</th>\n",
              "      <th>danceability</th>\n",
              "      <th>duration_ms</th>\n",
              "      <th>energy</th>\n",
              "      <th>instrumentalness</th>\n",
              "      <th>liveness</th>\n",
              "      <th>loudness</th>\n",
              "      <th>speechiness</th>\n",
              "      <th>tempo</th>\n",
              "      <th>valence</th>\n",
              "      <th>popularity</th>\n",
              "      <th>key</th>\n",
              "    </tr>\n",
              "  </thead>\n",
              "  <tbody>\n",
              "    <tr>\n",
              "      <th>0</th>\n",
              "      <td>1</td>\n",
              "      <td>1921</td>\n",
              "      <td>0.886896</td>\n",
              "      <td>0.418597</td>\n",
              "      <td>260537.166667</td>\n",
              "      <td>0.231815</td>\n",
              "      <td>0.344878</td>\n",
              "      <td>0.205710</td>\n",
              "      <td>-17.048667</td>\n",
              "      <td>0.073662</td>\n",
              "      <td>101.531493</td>\n",
              "      <td>0.379327</td>\n",
              "      <td>0.653333</td>\n",
              "      <td>2</td>\n",
              "    </tr>\n",
              "    <tr>\n",
              "      <th>1</th>\n",
              "      <td>1</td>\n",
              "      <td>1922</td>\n",
              "      <td>0.938592</td>\n",
              "      <td>0.482042</td>\n",
              "      <td>165469.746479</td>\n",
              "      <td>0.237815</td>\n",
              "      <td>0.434195</td>\n",
              "      <td>0.240720</td>\n",
              "      <td>-19.275282</td>\n",
              "      <td>0.116655</td>\n",
              "      <td>100.884521</td>\n",
              "      <td>0.535549</td>\n",
              "      <td>0.140845</td>\n",
              "      <td>10</td>\n",
              "    </tr>\n",
              "    <tr>\n",
              "      <th>2</th>\n",
              "      <td>1</td>\n",
              "      <td>1923</td>\n",
              "      <td>0.957247</td>\n",
              "      <td>0.577341</td>\n",
              "      <td>177942.362162</td>\n",
              "      <td>0.262406</td>\n",
              "      <td>0.371733</td>\n",
              "      <td>0.227462</td>\n",
              "      <td>-14.129211</td>\n",
              "      <td>0.093949</td>\n",
              "      <td>114.010730</td>\n",
              "      <td>0.625492</td>\n",
              "      <td>5.389189</td>\n",
              "      <td>0</td>\n",
              "    </tr>\n",
              "    <tr>\n",
              "      <th>3</th>\n",
              "      <td>1</td>\n",
              "      <td>1924</td>\n",
              "      <td>0.940200</td>\n",
              "      <td>0.549894</td>\n",
              "      <td>191046.707627</td>\n",
              "      <td>0.344347</td>\n",
              "      <td>0.581701</td>\n",
              "      <td>0.235219</td>\n",
              "      <td>-14.231343</td>\n",
              "      <td>0.092089</td>\n",
              "      <td>120.689572</td>\n",
              "      <td>0.663725</td>\n",
              "      <td>0.661017</td>\n",
              "      <td>10</td>\n",
              "    </tr>\n",
              "    <tr>\n",
              "      <th>4</th>\n",
              "      <td>1</td>\n",
              "      <td>1925</td>\n",
              "      <td>0.962607</td>\n",
              "      <td>0.573863</td>\n",
              "      <td>184986.924460</td>\n",
              "      <td>0.278594</td>\n",
              "      <td>0.418297</td>\n",
              "      <td>0.237668</td>\n",
              "      <td>-14.146414</td>\n",
              "      <td>0.111918</td>\n",
              "      <td>115.521921</td>\n",
              "      <td>0.621929</td>\n",
              "      <td>2.604317</td>\n",
              "      <td>5</td>\n",
              "    </tr>\n",
              "    <tr>\n",
              "      <th>...</th>\n",
              "      <td>...</td>\n",
              "      <td>...</td>\n",
              "      <td>...</td>\n",
              "      <td>...</td>\n",
              "      <td>...</td>\n",
              "      <td>...</td>\n",
              "      <td>...</td>\n",
              "      <td>...</td>\n",
              "      <td>...</td>\n",
              "      <td>...</td>\n",
              "      <td>...</td>\n",
              "      <td>...</td>\n",
              "      <td>...</td>\n",
              "      <td>...</td>\n",
              "    </tr>\n",
              "    <tr>\n",
              "      <th>95</th>\n",
              "      <td>1</td>\n",
              "      <td>2016</td>\n",
              "      <td>0.284171</td>\n",
              "      <td>0.600202</td>\n",
              "      <td>221396.510295</td>\n",
              "      <td>0.592855</td>\n",
              "      <td>0.093984</td>\n",
              "      <td>0.181170</td>\n",
              "      <td>-8.061056</td>\n",
              "      <td>0.104313</td>\n",
              "      <td>118.652630</td>\n",
              "      <td>0.431532</td>\n",
              "      <td>59.647190</td>\n",
              "      <td>0</td>\n",
              "    </tr>\n",
              "    <tr>\n",
              "      <th>96</th>\n",
              "      <td>1</td>\n",
              "      <td>2017</td>\n",
              "      <td>0.286099</td>\n",
              "      <td>0.612217</td>\n",
              "      <td>211115.696787</td>\n",
              "      <td>0.590421</td>\n",
              "      <td>0.097091</td>\n",
              "      <td>0.191713</td>\n",
              "      <td>-8.312630</td>\n",
              "      <td>0.110536</td>\n",
              "      <td>117.202740</td>\n",
              "      <td>0.416476</td>\n",
              "      <td>63.263554</td>\n",
              "      <td>1</td>\n",
              "    </tr>\n",
              "    <tr>\n",
              "      <th>97</th>\n",
              "      <td>1</td>\n",
              "      <td>2018</td>\n",
              "      <td>0.267633</td>\n",
              "      <td>0.663500</td>\n",
              "      <td>206001.007133</td>\n",
              "      <td>0.602435</td>\n",
              "      <td>0.054217</td>\n",
              "      <td>0.176326</td>\n",
              "      <td>-7.168785</td>\n",
              "      <td>0.127176</td>\n",
              "      <td>121.922308</td>\n",
              "      <td>0.447921</td>\n",
              "      <td>63.296243</td>\n",
              "      <td>1</td>\n",
              "    </tr>\n",
              "    <tr>\n",
              "      <th>98</th>\n",
              "      <td>1</td>\n",
              "      <td>2019</td>\n",
              "      <td>0.278299</td>\n",
              "      <td>0.644814</td>\n",
              "      <td>201024.788096</td>\n",
              "      <td>0.593224</td>\n",
              "      <td>0.077640</td>\n",
              "      <td>0.172616</td>\n",
              "      <td>-7.722192</td>\n",
              "      <td>0.121043</td>\n",
              "      <td>120.235644</td>\n",
              "      <td>0.458818</td>\n",
              "      <td>65.256542</td>\n",
              "      <td>1</td>\n",
              "    </tr>\n",
              "    <tr>\n",
              "      <th>99</th>\n",
              "      <td>1</td>\n",
              "      <td>2020</td>\n",
              "      <td>0.219931</td>\n",
              "      <td>0.692904</td>\n",
              "      <td>193728.397537</td>\n",
              "      <td>0.631232</td>\n",
              "      <td>0.016376</td>\n",
              "      <td>0.178535</td>\n",
              "      <td>-6.595067</td>\n",
              "      <td>0.141384</td>\n",
              "      <td>124.283129</td>\n",
              "      <td>0.501048</td>\n",
              "      <td>64.301970</td>\n",
              "      <td>1</td>\n",
              "    </tr>\n",
              "  </tbody>\n",
              "</table>\n",
              "<p>100 rows × 14 columns</p>\n",
              "</div>"
            ],
            "text/plain": [
              "    mode  year  acousticness  danceability    duration_ms    energy  \\\n",
              "0      1  1921      0.886896      0.418597  260537.166667  0.231815   \n",
              "1      1  1922      0.938592      0.482042  165469.746479  0.237815   \n",
              "2      1  1923      0.957247      0.577341  177942.362162  0.262406   \n",
              "3      1  1924      0.940200      0.549894  191046.707627  0.344347   \n",
              "4      1  1925      0.962607      0.573863  184986.924460  0.278594   \n",
              "..   ...   ...           ...           ...            ...       ...   \n",
              "95     1  2016      0.284171      0.600202  221396.510295  0.592855   \n",
              "96     1  2017      0.286099      0.612217  211115.696787  0.590421   \n",
              "97     1  2018      0.267633      0.663500  206001.007133  0.602435   \n",
              "98     1  2019      0.278299      0.644814  201024.788096  0.593224   \n",
              "99     1  2020      0.219931      0.692904  193728.397537  0.631232   \n",
              "\n",
              "    instrumentalness  liveness   loudness  speechiness       tempo   valence  \\\n",
              "0           0.344878  0.205710 -17.048667     0.073662  101.531493  0.379327   \n",
              "1           0.434195  0.240720 -19.275282     0.116655  100.884521  0.535549   \n",
              "2           0.371733  0.227462 -14.129211     0.093949  114.010730  0.625492   \n",
              "3           0.581701  0.235219 -14.231343     0.092089  120.689572  0.663725   \n",
              "4           0.418297  0.237668 -14.146414     0.111918  115.521921  0.621929   \n",
              "..               ...       ...        ...          ...         ...       ...   \n",
              "95          0.093984  0.181170  -8.061056     0.104313  118.652630  0.431532   \n",
              "96          0.097091  0.191713  -8.312630     0.110536  117.202740  0.416476   \n",
              "97          0.054217  0.176326  -7.168785     0.127176  121.922308  0.447921   \n",
              "98          0.077640  0.172616  -7.722192     0.121043  120.235644  0.458818   \n",
              "99          0.016376  0.178535  -6.595067     0.141384  124.283129  0.501048   \n",
              "\n",
              "    popularity  key  \n",
              "0     0.653333    2  \n",
              "1     0.140845   10  \n",
              "2     5.389189    0  \n",
              "3     0.661017   10  \n",
              "4     2.604317    5  \n",
              "..         ...  ...  \n",
              "95   59.647190    0  \n",
              "96   63.263554    1  \n",
              "97   63.296243    1  \n",
              "98   65.256542    1  \n",
              "99   64.301970    1  \n",
              "\n",
              "[100 rows x 14 columns]"
            ]
          },
          "execution_count": 4,
          "metadata": {},
          "output_type": "execute_result"
        }
      ],
      "source": [
        "data_year"
      ]
    },
    {
      "cell_type": "markdown",
      "metadata": {},
      "source": [
        "# EDA"
      ]
    },
    {
      "cell_type": "code",
      "execution_count": 5,
      "metadata": {},
      "outputs": [
        {
          "data": {
            "text/plain": [
              "Index(['valence', 'year', 'acousticness', 'artists', 'danceability',\n",
              "       'duration_ms', 'energy', 'explicit', 'id', 'instrumentalness', 'key',\n",
              "       'liveness', 'loudness', 'mode', 'name', 'popularity', 'release_date',\n",
              "       'speechiness', 'tempo'],\n",
              "      dtype='object')"
            ]
          },
          "execution_count": 5,
          "metadata": {},
          "output_type": "execute_result"
        }
      ],
      "source": [
        "data.columns"
      ]
    },
    {
      "cell_type": "code",
      "execution_count": 6,
      "metadata": {
        "colab": {
          "base_uri": "https://localhost:8080/",
          "height": 282
        },
        "id": "I4jt0lp1QMGm",
        "outputId": "f4eb2b5e-7d4e-4a05-a31d-4f470f3cf829"
      },
      "outputs": [
        {
          "name": "stderr",
          "output_type": "stream",
          "text": [
            "/Users/ming-hunghung/opt/anaconda3/lib/python3.8/site-packages/seaborn/distributions.py:2619: FutureWarning: `distplot` is a deprecated function and will be removed in a future version. Please adapt your code to use either `displot` (a figure-level function with similar flexibility) or `histplot` (an axes-level function for histograms).\n",
            "  warnings.warn(msg, FutureWarning)\n"
          ]
        },
        {
          "data": {
            "text/plain": [
              "<AxesSubplot:xlabel='popularity', ylabel='Density'>"
            ]
          },
          "execution_count": 6,
          "metadata": {},
          "output_type": "execute_result"
        },
        {
          "data": {
            "image/png": "[encoded data removed]",
            "text/plain": [
              "<Figure size 576x396 with 1 Axes>"
            ]
          },
          "metadata": {},
          "output_type": "display_data"
        }
      ],
      "source": [
        "sns.distplot(data['popularity'])"
      ]
    },
    {
      "cell_type": "code",
      "execution_count": 7,
      "metadata": {
        "colab": {
          "base_uri": "https://localhost:8080/",
          "height": 292
        },
        "id": "HLvu6IemTrwa",
        "outputId": "8931f2f0-4f15-47db-f3a3-76127f8b77e9"
      },
      "outputs": [
        {
          "data": {
            "text/plain": [
              "1970s    20000\n",
              "1990s    19901\n",
              "1950s    19850\n",
              "1980s    19850\n",
              "2010s    19774\n",
              "2000s    19646\n",
              "1960s    19549\n",
              "1940s    15378\n",
              "1930s     9549\n",
              "1920s     5126\n",
              "2020s     2030\n",
              "Name: decade, dtype: int64"
            ]
          },
          "execution_count": 7,
          "metadata": {},
          "output_type": "execute_result"
        }
      ],
      "source": [
        "data['decade'] = data['year'].apply(lambda x: '{}s'.format(int(x / 10) * 10))\n",
        "data['decade'].value_counts()"
      ]
    },
    {
      "cell_type": "code",
      "execution_count": 8,
      "metadata": {},
      "outputs": [
        {
          "name": "stderr",
          "output_type": "stream",
          "text": [
            "/Users/ming-hunghung/opt/anaconda3/lib/python3.8/site-packages/seaborn/_decorators.py:36: FutureWarning: Pass the following variable as a keyword arg: x. From version 0.12, the only valid positional argument will be `data`, and passing other arguments without an explicit keyword will result in an error or misinterpretation.\n",
            "  warnings.warn(\n"
          ]
        },
        {
          "data": {
            "text/plain": [
              "<AxesSubplot:xlabel='decade', ylabel='count'>"
            ]
          },
          "execution_count": 8,
          "metadata": {},
          "output_type": "execute_result"
        },
        {
          "data": {
            "image/png": "[encoded data removed]",
            "text/plain": [
              "<Figure size 576x396 with 1 Axes>"
            ]
          },
          "metadata": {},
          "output_type": "display_data"
        }
      ],
      "source": [
        "sns.set_theme(style=\"darkgrid\")\n",
        "sns.countplot(data['decade'])"
      ]
    },
    {
      "cell_type": "code",
      "execution_count": 9,
      "metadata": {
        "id": "t8yH2VbcT43O"
      },
      "outputs": [
        {
          "data": {
            "image/png": "[encoded data removed]",
            "text/plain": [
              "<Figure size 1600x480 with 1 Axes>"
            ]
          },
          "metadata": {},
          "output_type": "display_data"
        }
      ],
      "source": [
        "from matplotlib.pyplot import figure\n",
        "from matplotlib.pyplot import cm\n",
        "\n",
        "# plt.style.use('seaborn')\n",
        "figure(figsize=(20, 6), dpi=80)\n",
        "\n",
        "data_year_normalized = data_year.copy()\n",
        "numerical_features = ['acousticness', 'danceability', 'energy', 'instrumentalness', 'liveness', 'loudness', 'speechiness', 'tempo', 'valence', 'popularity']\n",
        "data_year_normalized[numerical_features] = data_year[numerical_features].apply(lambda x: (x - x.mean()) / (x.std()))\n",
        "color = cm.rainbow(np.linspace(0, 1, len(numerical_features)))\n",
        "\n",
        "for i, c in zip(range(len(numerical_features)), color):\n",
        "    plt.plot(data_year_normalized['year'], data_year_normalized[numerical_features[i]], label=numerical_features[i], color=c)\n",
        "\n",
        "#plt.plot(data_year_normalized['year'], data_year_normalized[numerical_features], label=numerical_features)\n",
        "plt.legend(loc = 'upper center')\n",
        "plt.show()"
      ]
    },
    {
      "cell_type": "code",
      "execution_count": 10,
      "metadata": {},
      "outputs": [
        {
          "data": {
            "application/vnd.plotly.v1+json": {
              "config": {
                "plotlyServerURL": "https://plot.ly"
              },
              "data": [
                {
                  "hovertemplate": "variable=acousticness<br>year=%{x}<br>value=%{y}<extra></extra>",
                  "legendgroup": "acousticness",
                  "line": {
                    "color": "#636efa",
                    "dash": "solid"
                  },
                  "marker": {
                    "symbol": "circle"
                  },
                  "mode": "lines",
                  "name": "acousticness",
                  "orientation": "v",
                  "showlegend": true,
                  "type": "scatter",
                  "x": [
                    1921,
                    1922,
                    1923,
                    1924,
                    1925,
                    1926,
                    1927,
                    1928,
                    1929,
                    1930,
                    1931,
                    1932,
                    1933,
                    1934,
                    1935,
                    1936,
                    1937,
                    1938,
                    1939,
                    1940,
                    1941,
                    1942,
                    1943,
                    1944,
                    1945,
                    1946,
                    1947,
                    1948,
                    1949,
                    1950,
                    1951,
                    1952,
                    1953,
                    1954,
                    1955,
                    1956,
                    1957,
                    1958,
                    1959,
                    1960,
                    1961,
                    1962,
                    1963,
                    1964,
                    1965,
                    1966,
                    1967,
                    1968,
                    1969,
                    1970,
                    1971,
                    1972,
                    1973,
                    1974,
                    1975,
                    1976,
                    1977,
                    1978,
                    1979,
                    1980,
                    1981,
                    1982,
                    1983,
                    1984,
                    1985,
                    1986,
                    1987,
                    1988,
                    1989,
                    1990,
                    1991,
                    1992,
                    1993,
                    1994,
                    1995,
                    1996,
                    1997,
                    1998,
                    1999,
                    2000,
                    2001,
                    2002,
                    2003,
                    2004,
                    2005,
                    2006,
                    2007,
                    2008,
                    2009,
                    2010,
                    2011,
                    2012,
                    2013,
                    2014,
                    2015,
                    2016,
                    2017,
                    2018,
                    2019,
                    2020
                  ],
                  "xaxis": "x",
                  "y": [
                    1.2005445305874014,
                    1.3882842632721704,
                    1.4560334255191014,
                    1.394125072734863,
                    1.4754999677468152,
                    0.3795073065351318,
                    1.3795244011361507,
                    1.3883748882596683,
                    0.1638217918046291,
                    1.3814690804162622,
                    1.0049586638133883,
                    1.3780392870209817,
                    1.247762810986994,
                    1.2159889971136775,
                    0.8064734492947986,
                    0.7844167438858242,
                    1.1226087119439205,
                    1.318153047508146,
                    1.279867220279939,
                    1.0579954968554148,
                    1.2326542615696328,
                    1.0772080470616543,
                    1.2581290045758788,
                    1.2759272208689831,
                    0.5568754206747029,
                    1.3205651533225262,
                    1.2988495317566218,
                    1.328592599036351,
                    1.2754903470749228,
                    1.0808648571852393,
                    1.256476160945232,
                    1.1548037242756963,
                    1.2151667936473838,
                    1.1210977378792126,
                    1.032236103350919,
                    0.9687040948917021,
                    0.8588301034435902,
                    0.8109269503392883,
                    0.8101313474172477,
                    0.7657842566836118,
                    0.7103014237354497,
                    0.5966453292561917,
                    0.6042609668199664,
                    0.5003803897804433,
                    0.194635343072904,
                    -0.11442418838395853,
                    -0.0969891672255818,
                    -0.22714752479464037,
                    -0.39029518288879866,
                    -0.3495815336121282,
                    -0.3558309208820121,
                    -0.3496334978708872,
                    -0.507677536158472,
                    -0.3962470135614453,
                    -0.4450328061548546,
                    -0.7076123505607469,
                    -0.7881189509805716,
                    -0.8256481947998922,
                    -0.9456243315660546,
                    -0.9854882965980314,
                    -0.9264783649114315,
                    -0.9686932572564623,
                    -0.9498165139809269,
                    -0.9754860907482827,
                    -0.9433049376592629,
                    -0.9850334015073912,
                    -0.8884919709668437,
                    -0.8509194372730943,
                    -0.8823647173815822,
                    -0.8114797893877189,
                    -0.8118598732509896,
                    -0.8552817028798813,
                    -0.8979179439692313,
                    -0.9082107100246692,
                    -0.921729704599095,
                    -0.9271224255232564,
                    -0.9064626904119737,
                    -0.9617589149966257,
                    -1.0340262338488568,
                    -0.9696278156378543,
                    -0.9786351075861491,
                    -0.9939540456223557,
                    -1.0889351837822507,
                    -1.001454633144308,
                    -1.0915027958003116,
                    -1.0035340917830373,
                    -1.0976132127031382,
                    -1.1153690184431622,
                    -1.06911331473569,
                    -1.1389932830196614,
                    -1.0282426569636753,
                    -1.1126043159271903,
                    -1.0852397417903332,
                    -1.114930014074714,
                    -1.0980806044721714,
                    -0.9883368392802123,
                    -0.981334900519407,
                    -1.048397078452715,
                    -1.0096634526973676,
                    -1.221634042329136
                  ],
                  "yaxis": "y"
                },
                {
                  "hovertemplate": "variable=danceability<br>year=%{x}<br>value=%{y}<extra></extra>",
                  "legendgroup": "danceability",
                  "line": {
                    "color": "#EF553B",
                    "dash": "solid"
                  },
                  "marker": {
                    "symbol": "circle"
                  },
                  "mode": "lines",
                  "name": "danceability",
                  "orientation": "v",
                  "showlegend": true,
                  "type": "scatter",
                  "x": [
                    1921,
                    1922,
                    1923,
                    1924,
                    1925,
                    1926,
                    1927,
                    1928,
                    1929,
                    1930,
                    1931,
                    1932,
                    1933,
                    1934,
                    1935,
                    1936,
                    1937,
                    1938,
                    1939,
                    1940,
                    1941,
                    1942,
                    1943,
                    1944,
                    1945,
                    1946,
                    1947,
                    1948,
                    1949,
                    1950,
                    1951,
                    1952,
                    1953,
                    1954,
                    1955,
                    1956,
                    1957,
                    1958,
                    1959,
                    1960,
                    1961,
                    1962,
                    1963,
                    1964,
                    1965,
                    1966,
                    1967,
                    1968,
                    1969,
                    1970,
                    1971,
                    1972,
                    1973,
                    1974,
                    1975,
                    1976,
                    1977,
                    1978,
                    1979,
                    1980,
                    1981,
                    1982,
                    1983,
                    1984,
                    1985,
                    1986,
                    1987,
                    1988,
                    1989,
                    1990,
                    1991,
                    1992,
                    1993,
                    1994,
                    1995,
                    1996,
                    1997,
                    1998,
                    1999,
                    2000,
                    2001,
                    2002,
                    2003,
                    2004,
                    2005,
                    2006,
                    2007,
                    2008,
                    2009,
                    2010,
                    2011,
                    2012,
                    2013,
                    2014,
                    2015,
                    2016,
                    2017,
                    2018,
                    2019,
                    2020
                  ],
                  "xaxis": "x",
                  "y": [
                    -2.257356944219446,
                    -1.045552146272346,
                    0.7746553834154938,
                    0.25042480263185285,
                    0.7082398938105893,
                    1.205166472673166,
                    2.1293830763393355,
                    -0.0476553150967884,
                    2.1179528129204757,
                    -0.3553959267043578,
                    1.1161881992838565,
                    0.4013833002298623,
                    0.6399951055959693,
                    -0.15427181775055124,
                    0.3645498964764525,
                    0.4053548981419682,
                    0.10265036556093549,
                    -1.0849800467169979,
                    -0.46031441368609294,
                    -0.28441101836460325,
                    -1.0753654917891706,
                    -1.378053795321978,
                    -1.55928047513984,
                    -0.6992248983067163,
                    -0.336921033991604,
                    -2.3366667358159323,
                    -1.2503321353595587,
                    -1.4022042490791211,
                    -1.8065549329082857,
                    -0.6213225901487236,
                    -1.4191913820836974,
                    -1.5232468579073701,
                    -1.8977264067089143,
                    -1.3588579624115704,
                    -0.9292526137691679,
                    -0.935301617824544,
                    -0.6360653754570923,
                    -1.084150665832331,
                    -1.0441759038546468,
                    -0.9694002138508674,
                    -0.9094958646455881,
                    -0.8331185557003148,
                    -1.0535914487864702,
                    -0.6227765980782745,
                    -0.6366511120880733,
                    -0.5684649525646704,
                    -0.8422058926278332,
                    -0.6833024390901398,
                    -0.9298905573607386,
                    -0.5820833292349556,
                    -0.620926262917451,
                    -0.30146550437994735,
                    -0.40747110118262714,
                    -0.40956638297889986,
                    -0.30149319953584885,
                    -0.1340903070714994,
                    -0.06607100412844484,
                    0.07624198708183991,
                    0.4825146443631103,
                    0.36995883709353805,
                    0.10317504871272414,
                    0.5248041924497582,
                    0.16896727911750903,
                    -0.12365305331065236,
                    0.36021856584637846,
                    0.07927508415791604,
                    0.08091642006518136,
                    0.07022231883264761,
                    0.19949211596978475,
                    -0.028349246758118587,
                    0.36369400182303013,
                    0.3491872987412188,
                    0.6321229216452717,
                    0.3065004684179636,
                    0.4252229168154487,
                    0.9750166471084349,
                    0.7645955374550708,
                    0.9440945280194691,
                    0.8666678303170876,
                    1.0339872174718339,
                    0.8888227392503989,
                    0.7521126621775273,
                    0.7445300348308531,
                    0.5901450152266862,
                    0.6780092893407007,
                    0.6006460178944595,
                    0.5086638179910429,
                    0.8100344807789489,
                    0.5234854664540126,
                    0.6819778934754182,
                    0.30720775808904993,
                    0.6512937167603496,
                    0.6563776958292142,
                    1.0154531180043118,
                    1.088537426018329,
                    1.2113192214233208,
                    1.4407998546098737,
                    2.4203194063062234,
                    2.0634078118382195,
                    2.981936283928684
                  ],
                  "yaxis": "y"
                },
                {
                  "hovertemplate": "variable=energy<br>year=%{x}<br>value=%{y}<extra></extra>",
                  "legendgroup": "energy",
                  "line": {
                    "color": "#00cc96",
                    "dash": "solid"
                  },
                  "marker": {
                    "symbol": "circle"
                  },
                  "mode": "lines",
                  "name": "energy",
                  "orientation": "v",
                  "showlegend": true,
                  "type": "scatter",
                  "x": [
                    1921,
                    1922,
                    1923,
                    1924,
                    1925,
                    1926,
                    1927,
                    1928,
                    1929,
                    1930,
                    1931,
                    1932,
                    1933,
                    1934,
                    1935,
                    1936,
                    1937,
                    1938,
                    1939,
                    1940,
                    1941,
                    1942,
                    1943,
                    1944,
                    1945,
                    1946,
                    1947,
                    1948,
                    1949,
                    1950,
                    1951,
                    1952,
                    1953,
                    1954,
                    1955,
                    1956,
                    1957,
                    1958,
                    1959,
                    1960,
                    1961,
                    1962,
                    1963,
                    1964,
                    1965,
                    1966,
                    1967,
                    1968,
                    1969,
                    1970,
                    1971,
                    1972,
                    1973,
                    1974,
                    1975,
                    1976,
                    1977,
                    1978,
                    1979,
                    1980,
                    1981,
                    1982,
                    1983,
                    1984,
                    1985,
                    1986,
                    1987,
                    1988,
                    1989,
                    1990,
                    1991,
                    1992,
                    1993,
                    1994,
                    1995,
                    1996,
                    1997,
                    1998,
                    1999,
                    2000,
                    2001,
                    2002,
                    2003,
                    2004,
                    2005,
                    2006,
                    2007,
                    2008,
                    2009,
                    2010,
                    2011,
                    2012,
                    2013,
                    2014,
                    2015,
                    2016,
                    2017,
                    2018,
                    2019,
                    2020
                  ],
                  "xaxis": "x",
                  "y": [
                    -1.3657318354659147,
                    -1.3286333732199243,
                    -1.1765900388512325,
                    -0.6699664145008565,
                    -1.076507980858982,
                    -1.49154076323315,
                    -1.1647510260397154,
                    -1.5133000438557136,
                    -1.3039923404626648,
                    -0.7368815083540438,
                    -1.3491516535726007,
                    -0.9313704618274555,
                    -1.0684338200090753,
                    -1.1782913840639486,
                    -1.275759950074807,
                    -0.8922893976731532,
                    -0.8758449537929722,
                    -1.061745095686873,
                    -1.05129446774075,
                    -0.8768057706717105,
                    -1.1565779324248637,
                    -1.215709037455046,
                    -1.067873523043609,
                    -1.2320195322733885,
                    -1.4014113274219788,
                    -1.4253519898366136,
                    -1.1695124450791907,
                    -1.2998862731148495,
                    -1.2773202624455433,
                    -0.8571548134495531,
                    -1.2244504511486418,
                    -1.2308784218943936,
                    -1.1531549026597328,
                    -1.1645897513825867,
                    -0.9744735259378626,
                    -0.914717625506331,
                    -0.9733433418854424,
                    -0.8897720760641705,
                    -0.8761781486137008,
                    -0.689777704139038,
                    -0.6997352547045889,
                    -0.5050135614078965,
                    -0.5400815518232063,
                    -0.3602536802107982,
                    -0.022741577412942044,
                    0.18241297443072507,
                    -0.03636496064656264,
                    0.026365126869805355,
                    0.21590341026174545,
                    0.2654151912007599,
                    0.26991757464598054,
                    0.32040009419954557,
                    0.5158528315980743,
                    0.3834495687611084,
                    0.4359101371109762,
                    0.6253202190751138,
                    0.6651668983905504,
                    0.672220950871592,
                    0.855133505009535,
                    0.8969585167397838,
                    0.9068840346823196,
                    0.854556487293071,
                    0.9195125708921965,
                    0.8556217029714308,
                    0.9200705423343244,
                    1.0031626268522664,
                    0.7860515077561364,
                    0.8221574586509584,
                    0.8120616586341272,
                    0.7350543656841851,
                    0.6596913965670278,
                    0.8047524769648914,
                    0.6792140342530607,
                    0.7794552160097978,
                    0.7782608436530686,
                    0.8245640028429564,
                    0.9026549029815911,
                    0.9428359564758175,
                    1.1426972355762648,
                    1.067824325168867,
                    1.077548033323487,
                    1.1658655783951188,
                    1.2826934343143368,
                    1.212843806462295,
                    1.239680883210601,
                    1.2218604876160137,
                    1.3330188374436827,
                    1.3525322040108456,
                    1.3481296076773865,
                    1.4163205717628302,
                    1.209337810201766,
                    1.2604734970065596,
                    1.1926193673805514,
                    1.2123955418348615,
                    1.0780349287772608,
                    0.8665255117582805,
                    0.8514751480982071,
                    0.9257534610143608,
                    0.8688057746940983,
                    1.103801121545896
                  ],
                  "yaxis": "y"
                },
                {
                  "hovertemplate": "variable=instrumentalness<br>year=%{x}<br>value=%{y}<extra></extra>",
                  "legendgroup": "instrumentalness",
                  "line": {
                    "color": "#ab63fa",
                    "dash": "solid"
                  },
                  "marker": {
                    "symbol": "circle"
                  },
                  "mode": "lines",
                  "name": "instrumentalness",
                  "orientation": "v",
                  "showlegend": true,
                  "type": "scatter",
                  "x": [
                    1921,
                    1922,
                    1923,
                    1924,
                    1925,
                    1926,
                    1927,
                    1928,
                    1929,
                    1930,
                    1931,
                    1932,
                    1933,
                    1934,
                    1935,
                    1936,
                    1937,
                    1938,
                    1939,
                    1940,
                    1941,
                    1942,
                    1943,
                    1944,
                    1945,
                    1946,
                    1947,
                    1948,
                    1949,
                    1950,
                    1951,
                    1952,
                    1953,
                    1954,
                    1955,
                    1956,
                    1957,
                    1958,
                    1959,
                    1960,
                    1961,
                    1962,
                    1963,
                    1964,
                    1965,
                    1966,
                    1967,
                    1968,
                    1969,
                    1970,
                    1971,
                    1972,
                    1973,
                    1974,
                    1975,
                    1976,
                    1977,
                    1978,
                    1979,
                    1980,
                    1981,
                    1982,
                    1983,
                    1984,
                    1985,
                    1986,
                    1987,
                    1988,
                    1989,
                    1990,
                    1991,
                    1992,
                    1993,
                    1994,
                    1995,
                    1996,
                    1997,
                    1998,
                    1999,
                    2000,
                    2001,
                    2002,
                    2003,
                    2004,
                    2005,
                    2006,
                    2007,
                    2008,
                    2009,
                    2010,
                    2011,
                    2012,
                    2013,
                    2014,
                    2015,
                    2016,
                    2017,
                    2018,
                    2019,
                    2020
                  ],
                  "xaxis": "x",
                  "y": [
                    1.235193290623628,
                    1.964382236473312,
                    1.4544367401142806,
                    3.168632317181399,
                    1.8345938198159966,
                    1.1389801192830475,
                    1.6144180625024636,
                    2.4594565944095717,
                    0.17652508764880448,
                    1.295018549029418,
                    0.22726978469356424,
                    0.267575302236638,
                    -0.07864375367006056,
                    0.675988656579548,
                    0.26362976036875824,
                    0.5186484337677743,
                    1.089950866033833,
                    1.5090699796898523,
                    0.686603606616195,
                    1.006359563261635,
                    2.0522012865081805,
                    1.6271013514389159,
                    1.7660120344253842,
                    2.087636024752087,
                    0.6720045104456923,
                    2.388355108940143,
                    1.2573616795178266,
                    1.321787680128663,
                    0.8505305695176443,
                    0.41978824180706764,
                    0.9376928182697438,
                    0.7742055570215356,
                    1.0183909120989154,
                    0.8479055922539215,
                    0.18795797868977052,
                    0.3688656358920988,
                    0.0076641827683401,
                    -0.10075067182469634,
                    -0.04436073521642565,
                    -0.13943980982104148,
                    0.5799872143244189,
                    -0.1805100636644522,
                    -0.06653337219703018,
                    -0.27744821620949256,
                    -0.6140680876231778,
                    -0.6405196061519223,
                    -0.6093255076870273,
                    -0.6596970644240555,
                    -0.27863277104064427,
                    -0.5389499885192117,
                    -0.5597611396010118,
                    -0.6425248804486421,
                    -0.7666196893483856,
                    -0.6304367481017688,
                    -0.6715751008070964,
                    -0.5874279189220936,
                    -0.5376924856932268,
                    -0.7608967455079249,
                    -0.6354136607252522,
                    -0.5292832512855249,
                    -0.38162060261943653,
                    -0.7638752565144525,
                    -0.3932741905986625,
                    -0.395213023629935,
                    -0.6518464202596055,
                    -0.6828511498120748,
                    -0.7478889041809347,
                    -0.623665492978982,
                    -0.6563857546235362,
                    -0.5531614756990463,
                    -0.640794047704532,
                    -0.7583751201399906,
                    -0.6391479617915362,
                    -0.6669727990315149,
                    -0.5740408634891819,
                    -0.8043982112091765,
                    -0.7257180488312823,
                    -0.671544758173316,
                    -0.8124371366808795,
                    -0.7544752590784608,
                    -0.7051132323003086,
                    -0.8615831465998408,
                    -0.9023959641083854,
                    -0.9441571538776922,
                    -0.8440629576356813,
                    -0.9460558153970746,
                    -0.9847878407966547,
                    -1.0606743484856256,
                    -0.9609911554227137,
                    -0.9029568885523684,
                    -0.7332114140940647,
                    -0.8847922147023046,
                    -0.7773568273609643,
                    -0.9552968685045551,
                    -0.7086004420114371,
                    -0.813120910015176,
                    -0.7877614878990288,
                    -1.1377837601004763,
                    -0.9465556599713144,
                    -1.4467253157577167
                  ],
                  "yaxis": "y"
                },
                {
                  "hovertemplate": "variable=liveness<br>year=%{x}<br>value=%{y}<extra></extra>",
                  "legendgroup": "liveness",
                  "line": {
                    "color": "#FFA15A",
                    "dash": "solid"
                  },
                  "marker": {
                    "symbol": "circle"
                  },
                  "mode": "lines",
                  "name": "liveness",
                  "orientation": "v",
                  "showlegend": true,
                  "type": "scatter",
                  "x": [
                    1921,
                    1922,
                    1923,
                    1924,
                    1925,
                    1926,
                    1927,
                    1928,
                    1929,
                    1930,
                    1931,
                    1932,
                    1933,
                    1934,
                    1935,
                    1936,
                    1937,
                    1938,
                    1939,
                    1940,
                    1941,
                    1942,
                    1943,
                    1944,
                    1945,
                    1946,
                    1947,
                    1948,
                    1949,
                    1950,
                    1951,
                    1952,
                    1953,
                    1954,
                    1955,
                    1956,
                    1957,
                    1958,
                    1959,
                    1960,
                    1961,
                    1962,
                    1963,
                    1964,
                    1965,
                    1966,
                    1967,
                    1968,
                    1969,
                    1970,
                    1971,
                    1972,
                    1973,
                    1974,
                    1975,
                    1976,
                    1977,
                    1978,
                    1979,
                    1980,
                    1981,
                    1982,
                    1983,
                    1984,
                    1985,
                    1986,
                    1987,
                    1988,
                    1989,
                    1990,
                    1991,
                    1992,
                    1993,
                    1994,
                    1995,
                    1996,
                    1997,
                    1998,
                    1999,
                    2000,
                    2001,
                    2002,
                    2003,
                    2004,
                    2005,
                    2006,
                    2007,
                    2008,
                    2009,
                    2010,
                    2011,
                    2012,
                    2013,
                    2014,
                    2015,
                    2016,
                    2017,
                    2018,
                    2019,
                    2020
                  ],
                  "xaxis": "x",
                  "y": [
                    -0.14040951820097464,
                    1.8150712464935002,
                    1.0745655444988105,
                    1.5078303776363442,
                    1.6446155879305786,
                    1.3486719432724494,
                    -2.221566975713847,
                    -1.839564861829251,
                    1.5514613690092558,
                    0.7309824427506658,
                    1.0726546288741103,
                    1.3557444354112802,
                    0.047372031950951084,
                    0.29205599785381114,
                    1.1772112975898361,
                    0.7380989721512279,
                    0.991093601530919,
                    1.6135101443254074,
                    1.7246906498281815,
                    3.1341171250484403,
                    -0.35657561780509145,
                    0.2599851511436467,
                    1.7307847066879205,
                    1.706277451790839,
                    -0.2912218095762592,
                    0.144918113480402,
                    0.8716559318208751,
                    0.6406484557920274,
                    0.03545390655402196,
                    0.4878740240689374,
                    0.5336195719796373,
                    1.3823363313797898,
                    0.7546197927233671,
                    0.5371803518078363,
                    0.7379357221384385,
                    -1.450377129090012,
                    -1.4229290126396803,
                    -0.13310084305551403,
                    -0.9149602285384215,
                    -0.020112147580565672,
                    0.03847171339208687,
                    -0.3534565976070726,
                    -0.25014856335384267,
                    0.503176103906694,
                    0.31364594429005854,
                    0.5512531122426618,
                    -0.9666412052960163,
                    0.5098000495052742,
                    -0.07026075920087803,
                    0.2259346815998747,
                    0.3737140263920666,
                    -0.07087237550077151,
                    -0.382556510362146,
                    0.06270015596893899,
                    0.40313863523135424,
                    2.2793679857039835,
                    0.8372856684984237,
                    0.5500159158003597,
                    0.2915256424198601,
                    -0.2496568928802375,
                    0.9426205177382581,
                    -0.4031112864685373,
                    -0.5195306338559893,
                    -0.5874647274413771,
                    -0.5036677088173697,
                    0.2041873933470707,
                    -0.34662181494740046,
                    -0.028836268633441787,
                    -0.5107194492614727,
                    -0.9642259537200558,
                    -1.0944793872503475,
                    -0.4456311867701383,
                    -0.742404730648888,
                    -0.8969649173414186,
                    -0.38261515850045447,
                    -0.5327208794470981,
                    -0.5443108686918751,
                    -0.8095065792234745,
                    -0.10700537315105983,
                    -0.5885906072155683,
                    -1.184031584929067,
                    -0.7994358560387196,
                    -0.6282332817636852,
                    -0.33649311812267435,
                    -1.0133381482440231,
                    -1.1134501623552657,
                    -0.6756958747278918,
                    -0.5469580418062161,
                    -0.16597474896441763,
                    -0.47606427317810773,
                    -0.2745280366033338,
                    -1.0328103316030206,
                    -0.47996437455764046,
                    -0.9161514597507104,
                    -1.0817717007555985,
                    -1.5111062001145992,
                    -0.9222394497686518,
                    -1.7816896815375454,
                    -1.9888637428449853,
                    -1.6582558062770303
                  ],
                  "yaxis": "y"
                },
                {
                  "hovertemplate": "variable=loudness<br>year=%{x}<br>value=%{y}<extra></extra>",
                  "legendgroup": "loudness",
                  "line": {
                    "color": "#19d3f3",
                    "dash": "solid"
                  },
                  "marker": {
                    "symbol": "circle"
                  },
                  "mode": "lines",
                  "name": "loudness",
                  "orientation": "v",
                  "showlegend": true,
                  "type": "scatter",
                  "x": [
                    1921,
                    1922,
                    1923,
                    1924,
                    1925,
                    1926,
                    1927,
                    1928,
                    1929,
                    1930,
                    1931,
                    1932,
                    1933,
                    1934,
                    1935,
                    1936,
                    1937,
                    1938,
                    1939,
                    1940,
                    1941,
                    1942,
                    1943,
                    1944,
                    1945,
                    1946,
                    1947,
                    1948,
                    1949,
                    1950,
                    1951,
                    1952,
                    1953,
                    1954,
                    1955,
                    1956,
                    1957,
                    1958,
                    1959,
                    1960,
                    1961,
                    1962,
                    1963,
                    1964,
                    1965,
                    1966,
                    1967,
                    1968,
                    1969,
                    1970,
                    1971,
                    1972,
                    1973,
                    1974,
                    1975,
                    1976,
                    1977,
                    1978,
                    1979,
                    1980,
                    1981,
                    1982,
                    1983,
                    1984,
                    1985,
                    1986,
                    1987,
                    1988,
                    1989,
                    1990,
                    1991,
                    1992,
                    1993,
                    1994,
                    1995,
                    1996,
                    1997,
                    1998,
                    1999,
                    2000,
                    2001,
                    2002,
                    2003,
                    2004,
                    2005,
                    2006,
                    2007,
                    2008,
                    2009,
                    2010,
                    2011,
                    2012,
                    2013,
                    2014,
                    2015,
                    2016,
                    2017,
                    2018,
                    2019,
                    2020
                  ],
                  "xaxis": "x",
                  "y": [
                    -1.6356248660100408,
                    -2.352590351576338,
                    -0.6955660488297336,
                    -0.7284524759028659,
                    -0.7011053340187425,
                    -2.100548632171698,
                    -0.7899639911831691,
                    -1.6817722885910897,
                    -1.4687363471488755,
                    -0.28985203883304905,
                    -1.4641376214440844,
                    -0.44918769215682003,
                    -0.35418313112647354,
                    -0.8976727738524655,
                    -1.1095069335897687,
                    -0.8513448859862005,
                    -0.3690383108787004,
                    -0.7475273647646152,
                    -0.6219441751717237,
                    -0.5522245338196426,
                    -1.219239582544403,
                    -0.9853066658873796,
                    -0.5258456086789256,
                    -0.8413812260150099,
                    -1.6139881597141796,
                    -1.5947658033039067,
                    -0.7755493969064718,
                    -1.1386985269453926,
                    -1.1452794025320343,
                    -0.6101154192721273,
                    -1.2374419793946096,
                    -1.2847112792832334,
                    -1.1366787958549824,
                    -1.1073350024399067,
                    -0.6031691183740072,
                    -0.7103730247396074,
                    -0.6941614638458127,
                    -0.7071451562332524,
                    -0.8021235804488511,
                    -0.594101882211884,
                    -0.7091285111146672,
                    -0.3890733894508327,
                    -0.547909439216049,
                    -0.3474428169469736,
                    0.02603055752277322,
                    0.19710608570270158,
                    0.08379181259586051,
                    -0.024087994942701987,
                    -0.02998184552282537,
                    0.0632713384155068,
                    -0.03570374919462994,
                    0.06294756947110622,
                    0.2282505329675371,
                    0.04912564622607576,
                    0.15556207046441853,
                    0.2752493545734318,
                    0.2871254441724938,
                    0.3468517179721714,
                    0.3192740420620069,
                    0.40832948313886186,
                    0.33637503148834613,
                    0.33356785331102884,
                    0.24757878225305752,
                    0.1435517077178497,
                    0.19589247540788207,
                    0.278547257635136,
                    0.11127827782601492,
                    0.14465212747489983,
                    0.18834436033063273,
                    0.2065857055168882,
                    0.3262758174284571,
                    0.44875231800832005,
                    0.34980347323155586,
                    0.5431400617433535,
                    0.5955687348752768,
                    0.8131206966443935,
                    0.8913478459825565,
                    0.9653131913788008,
                    1.1922439767916853,
                    1.198247205215739,
                    1.1797872513752032,
                    1.3789287423460512,
                    1.4436807487021934,
                    1.4062935333860487,
                    1.4499230208619196,
                    1.5145346352600977,
                    1.585684789683747,
                    1.6503200206438982,
                    1.5852085873957846,
                    1.6290358998120942,
                    1.414880903091828,
                    1.5161288144314315,
                    1.4480295121010236,
                    1.578309747601725,
                    1.3985706784839622,
                    1.2583673288458446,
                    1.1773612362728403,
                    1.5456768104659477,
                    1.3674809443920741,
                    1.7304128573701487
                  ],
                  "yaxis": "y"
                },
                {
                  "hovertemplate": "variable=speechiness<br>year=%{x}<br>value=%{y}<extra></extra>",
                  "legendgroup": "speechiness",
                  "line": {
                    "color": "#FF6692",
                    "dash": "solid"
                  },
                  "marker": {
                    "symbol": "circle"
                  },
                  "mode": "lines",
                  "name": "speechiness",
                  "orientation": "v",
                  "showlegend": true,
                  "type": "scatter",
                  "x": [
                    1921,
                    1922,
                    1923,
                    1924,
                    1925,
                    1926,
                    1927,
                    1928,
                    1929,
                    1930,
                    1931,
                    1932,
                    1933,
                    1934,
                    1935,
                    1936,
                    1937,
                    1938,
                    1939,
                    1940,
                    1941,
                    1942,
                    1943,
                    1944,
                    1945,
                    1946,
                    1947,
                    1948,
                    1949,
                    1950,
                    1951,
                    1952,
                    1953,
                    1954,
                    1955,
                    1956,
                    1957,
                    1958,
                    1959,
                    1960,
                    1961,
                    1962,
                    1963,
                    1964,
                    1965,
                    1966,
                    1967,
                    1968,
                    1969,
                    1970,
                    1971,
                    1972,
                    1973,
                    1974,
                    1975,
                    1976,
                    1977,
                    1978,
                    1979,
                    1980,
                    1981,
                    1982,
                    1983,
                    1984,
                    1985,
                    1986,
                    1987,
                    1988,
                    1989,
                    1990,
                    1991,
                    1992,
                    1993,
                    1994,
                    1995,
                    1996,
                    1997,
                    1998,
                    1999,
                    2000,
                    2001,
                    2002,
                    2003,
                    2004,
                    2005,
                    2006,
                    2007,
                    2008,
                    2009,
                    2010,
                    2011,
                    2012,
                    2013,
                    2014,
                    2015,
                    2016,
                    2017,
                    2018,
                    2019,
                    2020
                  ],
                  "xaxis": "x",
                  "y": [
                    -0.39206219985442525,
                    0.13142785184592734,
                    -0.14504812441736767,
                    -0.16768660548124112,
                    0.07374992512611807,
                    4.60068231382817,
                    0.09434726305068027,
                    0.6581280299150666,
                    4.677357079222045,
                    0.1710581554009893,
                    4.234365500358622,
                    0.403595405407702,
                    -0.17945187197058565,
                    -0.04144979625644641,
                    3.020319552825782,
                    2.108529708260543,
                    -0.24574284120890916,
                    -0.12059089979959181,
                    0.27520150043671243,
                    1.6693136924643521,
                    -0.17650458289834556,
                    -0.2701011147943582,
                    -0.0017230662023964539,
                    0.8209449397141115,
                    2.425937837663154,
                    -0.21740795670327712,
                    -0.0645005675293008,
                    0.7122854916925494,
                    -0.03493334829031873,
                    0.5794850813665284,
                    0.03221285674794594,
                    0.38355862717525435,
                    -0.1920529913180612,
                    -0.012758072226871472,
                    -0.19850705854112083,
                    -0.5302576874304853,
                    -0.5054087855619431,
                    -0.5949503903125988,
                    -0.46253423735353244,
                    -0.4879921431884822,
                    -0.5647942629753767,
                    -0.5859334094094476,
                    -0.655382644537453,
                    -0.4781178864751472,
                    -0.5881662859158717,
                    -0.6075557903481154,
                    -0.6911532545772583,
                    -0.5707295144365765,
                    -0.6195986504351767,
                    -0.6597009300941749,
                    -0.5654462658730292,
                    -0.6208619300813346,
                    -0.5848873786155643,
                    -0.5910534009077522,
                    -0.5450383636952656,
                    -0.5249293869663051,
                    -0.548008136280307,
                    -0.5248386743555676,
                    -0.4481140699568199,
                    -0.5675623002579038,
                    -0.5837884775257751,
                    -0.4871454537615559,
                    -0.4745680589615673,
                    -0.5673652333162519,
                    -0.5771061848046997,
                    -0.4997715533189878,
                    -0.5853270483249751,
                    -0.4841397926389008,
                    -0.5104482449597932,
                    -0.5055041032699387,
                    -0.42323823997719123,
                    -0.3993642606139521,
                    -0.35932590594909786,
                    -0.3629933741844956,
                    -0.26917461754246264,
                    -0.24088689442001146,
                    -0.2113182361768309,
                    -0.17205002548903217,
                    -0.13946501090693858,
                    -0.20280258408580787,
                    -0.2030841579602479,
                    -0.2624393583976687,
                    -0.14532703928638213,
                    -0.1415150677071543,
                    -0.15253594927333233,
                    -0.2436981423858771,
                    -0.261955557807075,
                    -0.34707887203103027,
                    -0.2484342308470564,
                    -0.30232979652089687,
                    -0.2238204289720014,
                    -0.29367289299215904,
                    -0.1462628455296078,
                    -0.26544750267970274,
                    -0.1105824300062139,
                    -0.018846167584732322,
                    0.05692864582111549,
                    0.25952902454619664,
                    0.18486215768878284,
                    0.4325299771851307
                  ],
                  "yaxis": "y"
                },
                {
                  "hovertemplate": "variable=tempo<br>year=%{x}<br>value=%{y}<extra></extra>",
                  "legendgroup": "tempo",
                  "line": {
                    "color": "#B6E880",
                    "dash": "solid"
                  },
                  "marker": {
                    "symbol": "circle"
                  },
                  "mode": "lines",
                  "name": "tempo",
                  "orientation": "v",
                  "showlegend": true,
                  "type": "scatter",
                  "x": [
                    1921,
                    1922,
                    1923,
                    1924,
                    1925,
                    1926,
                    1927,
                    1928,
                    1929,
                    1930,
                    1931,
                    1932,
                    1933,
                    1934,
                    1935,
                    1936,
                    1937,
                    1938,
                    1939,
                    1940,
                    1941,
                    1942,
                    1943,
                    1944,
                    1945,
                    1946,
                    1947,
                    1948,
                    1949,
                    1950,
                    1951,
                    1952,
                    1953,
                    1954,
                    1955,
                    1956,
                    1957,
                    1958,
                    1959,
                    1960,
                    1961,
                    1962,
                    1963,
                    1964,
                    1965,
                    1966,
                    1967,
                    1968,
                    1969,
                    1970,
                    1971,
                    1972,
                    1973,
                    1974,
                    1975,
                    1976,
                    1977,
                    1978,
                    1979,
                    1980,
                    1981,
                    1982,
                    1983,
                    1984,
                    1985,
                    1986,
                    1987,
                    1988,
                    1989,
                    1990,
                    1991,
                    1992,
                    1993,
                    1994,
                    1995,
                    1996,
                    1997,
                    1998,
                    1999,
                    2000,
                    2001,
                    2002,
                    2003,
                    2004,
                    2005,
                    2006,
                    2007,
                    2008,
                    2009,
                    2010,
                    2011,
                    2012,
                    2013,
                    2014,
                    2015,
                    2016,
                    2017,
                    2018,
                    2019,
                    2020
                  ],
                  "xaxis": "x",
                  "y": [
                    -2.5546894029341947,
                    -2.6688009996952884,
                    -0.35362793988368507,
                    0.8243722154576936,
                    -0.08708722683283107,
                    -1.1231112719464813,
                    -0.2062123793185337,
                    -1.630333703933479,
                    -0.8937627744488724,
                    -1.0837504753556375,
                    -1.232950797801829,
                    -0.15801231822227793,
                    -0.6162069577755058,
                    -0.11020593181956066,
                    -0.9432192461233848,
                    -1.0806532514947929,
                    -0.13271594892393548,
                    -0.7743600972229873,
                    -0.5011041536720564,
                    -1.3345351310068476,
                    -1.4287582462552728,
                    -1.7650624216031863,
                    -1.7318339179817164,
                    -1.7729056326123445,
                    -1.3566289318092193,
                    -2.26665340322091,
                    -1.2389927131026535,
                    -1.4034942051635821,
                    -1.2597860021762066,
                    -0.7524191976420773,
                    -1.1270199218365466,
                    -1.3728186589107712,
                    -1.0565226173667714,
                    -1.2880140498340518,
                    -0.8809008825026017,
                    -0.6719354942689308,
                    -0.5755880327592137,
                    -0.47437734647859675,
                    -0.6875162698997366,
                    -0.60920847352909,
                    -0.741971824276497,
                    -0.2071857807771788,
                    -0.298270366625434,
                    -0.16476963164506747,
                    0.1445896911016421,
                    0.056396745051664074,
                    0.11717630553573566,
                    -0.032291793490560626,
                    0.1779042715146078,
                    0.19329888705960552,
                    0.39800959948974063,
                    0.5991870217122356,
                    0.7285539472343576,
                    0.5998221585167892,
                    0.4706363730942308,
                    0.7948264425576838,
                    1.088208584874153,
                    0.769407830221091,
                    1.1360750766399217,
                    1.2292351521317,
                    1.261758173419889,
                    0.8647690091472378,
                    0.8915822415099103,
                    0.9455596982488996,
                    1.0518523382431095,
                    0.7908127871494627,
                    0.8519110039754482,
                    0.7070550939500597,
                    0.8048700172958017,
                    0.7138117535278002,
                    0.5903191571570627,
                    1.158898729177195,
                    0.7671135947349189,
                    0.4285093062629957,
                    0.5761037409115997,
                    0.29855177935512406,
                    0.3821476707085154,
                    0.44525427098213793,
                    0.6162319201629606,
                    0.5262496657490022,
                    0.30861272775582854,
                    0.5686536267607617,
                    0.8640660200186755,
                    0.9303354425791951,
                    0.9881205077233346,
                    1.019982948564794,
                    1.4236944963105873,
                    1.3218216383363246,
                    1.3136860578114598,
                    1.3324540108094751,
                    0.9644912242081285,
                    1.0170058417431815,
                    0.8450538324424713,
                    1.1093443614225016,
                    0.7231029614546393,
                    0.4651006538331772,
                    0.20937210947720128,
                    1.0417995311327275,
                    0.744309420145433,
                    1.4581961577892495
                  ],
                  "yaxis": "y"
                },
                {
                  "hovertemplate": "variable=valence<br>year=%{x}<br>value=%{y}<extra></extra>",
                  "legendgroup": "valence",
                  "line": {
                    "color": "#FF97FF",
                    "dash": "solid"
                  },
                  "marker": {
                    "symbol": "circle"
                  },
                  "mode": "lines",
                  "name": "valence",
                  "orientation": "v",
                  "showlegend": true,
                  "type": "scatter",
                  "x": [
                    1921,
                    1922,
                    1923,
                    1924,
                    1925,
                    1926,
                    1927,
                    1928,
                    1929,
                    1930,
                    1931,
                    1932,
                    1933,
                    1934,
                    1935,
                    1936,
                    1937,
                    1938,
                    1939,
                    1940,
                    1941,
                    1942,
                    1943,
                    1944,
                    1945,
                    1946,
                    1947,
                    1948,
                    1949,
                    1950,
                    1951,
                    1952,
                    1953,
                    1954,
                    1955,
                    1956,
                    1957,
                    1958,
                    1959,
                    1960,
                    1961,
                    1962,
                    1963,
                    1964,
                    1965,
                    1966,
                    1967,
                    1968,
                    1969,
                    1970,
                    1971,
                    1972,
                    1973,
                    1974,
                    1975,
                    1976,
                    1977,
                    1978,
                    1979,
                    1980,
                    1981,
                    1982,
                    1983,
                    1984,
                    1985,
                    1986,
                    1987,
                    1988,
                    1989,
                    1990,
                    1991,
                    1992,
                    1993,
                    1994,
                    1995,
                    1996,
                    1997,
                    1998,
                    1999,
                    2000,
                    2001,
                    2002,
                    2003,
                    2004,
                    2005,
                    2006,
                    2007,
                    2008,
                    2009,
                    2010,
                    2011,
                    2012,
                    2013,
                    2014,
                    2015,
                    2016,
                    2017,
                    2018,
                    2019,
                    2020
                  ],
                  "xaxis": "x",
                  "y": [
                    -2.6430562740985093,
                    0.059318770623850464,
                    1.615175878751554,
                    2.276538974190261,
                    1.5535309453516413,
                    -1.6469585937305748,
                    2.206914704905097,
                    -0.6297840463335898,
                    1.8061033592238915,
                    1.4550841721364987,
                    -0.3287188551617325,
                    0.9693901689309773,
                    1.163995700683225,
                    0.4615956160520618,
                    0.23279414353966874,
                    0.5525648335913118,
                    0.9283853632536263,
                    -0.29768533575841566,
                    0.4809735906377117,
                    1.4632461702857436,
                    -0.9109952673885572,
                    -0.9464079136123448,
                    -0.6342501259727278,
                    0.14833862937095812,
                    -0.7050544998862421,
                    -2.315649869697758,
                    -0.4135586370261564,
                    -1.2104911776710754,
                    -1.7592406671500198,
                    0.3378272737579289,
                    -1.570204739537603,
                    -1.5392856739314555,
                    -1.7813382695012858,
                    -1.3800366427401716,
                    -1.0327841798525532,
                    -0.4099172808814941,
                    -0.3651649622713705,
                    -0.5960730531187733,
                    -0.9289923574699998,
                    -0.1416454994936789,
                    -0.3333179394885925,
                    0.2710968004629616,
                    0.16273026026744486,
                    0.4348828103554857,
                    0.8446821484861665,
                    0.830737756591248,
                    0.322985320181311,
                    0.585952226871813,
                    0.39137541656273317,
                    0.691155740102137,
                    0.7402455234738343,
                    1.09961453190218,
                    1.0378261175340846,
                    0.8502821623006949,
                    0.6451381224639714,
                    0.8409212248756586,
                    0.9189933285074303,
                    0.9931802495730954,
                    1.3468693840228403,
                    1.1406096304972868,
                    0.8792990790217389,
                    0.9396110894182285,
                    0.6919255113585542,
                    0.3376371662049413,
                    0.5790813697245936,
                    0.3256986194559154,
                    0.16141091535770855,
                    0.248493844665016,
                    0.28045250289718354,
                    -0.09675357589207398,
                    0.28602825483455535,
                    0.4666748733218129,
                    0.4056147144569706,
                    -0.09463800230418516,
                    -0.03240675323579332,
                    0.49737836751477704,
                    0.2842511943108942,
                    0.09688368102840261,
                    0.42091317772811065,
                    0.47319907605263667,
                    0.1618940159230573,
                    0.1777745313171304,
                    -0.02795163381255883,
                    -0.1320124649363264,
                    0.007106264019807106,
                    -0.20916685852375355,
                    -0.2651173196993134,
                    -0.07919513534080612,
                    -0.43159867997747203,
                    -0.19417186947795184,
                    -1.0321237553678861,
                    -1.2006892316780988,
                    -1.338518392896866,
                    -1.194811894914853,
                    -1.7301992077977273,
                    -1.7399953653652467,
                    -2.0004331598802336,
                    -1.456490940264963,
                    -1.2680032768904979,
                    -0.5374959188988252
                  ],
                  "yaxis": "y"
                },
                {
                  "hovertemplate": "variable=popularity<br>year=%{x}<br>value=%{y}<extra></extra>",
                  "legendgroup": "popularity",
                  "line": {
                    "color": "#FECB52",
                    "dash": "solid"
                  },
                  "marker": {
                    "symbol": "circle"
                  },
                  "mode": "lines",
                  "name": "popularity",
                  "orientation": "v",
                  "showlegend": true,
                  "type": "scatter",
                  "x": [
                    1921,
                    1922,
                    1923,
                    1924,
                    1925,
                    1926,
                    1927,
                    1928,
                    1929,
                    1930,
                    1931,
                    1932,
                    1933,
                    1934,
                    1935,
                    1936,
                    1937,
                    1938,
                    1939,
                    1940,
                    1941,
                    1942,
                    1943,
                    1944,
                    1945,
                    1946,
                    1947,
                    1948,
                    1949,
                    1950,
                    1951,
                    1952,
                    1953,
                    1954,
                    1955,
                    1956,
                    1957,
                    1958,
                    1959,
                    1960,
                    1961,
                    1962,
                    1963,
                    1964,
                    1965,
                    1966,
                    1967,
                    1968,
                    1969,
                    1970,
                    1971,
                    1972,
                    1973,
                    1974,
                    1975,
                    1976,
                    1977,
                    1978,
                    1979,
                    1980,
                    1981,
                    1982,
                    1983,
                    1984,
                    1985,
                    1986,
                    1987,
                    1988,
                    1989,
                    1990,
                    1991,
                    1992,
                    1993,
                    1994,
                    1995,
                    1996,
                    1997,
                    1998,
                    1999,
                    2000,
                    2001,
                    2002,
                    2003,
                    2004,
                    2005,
                    2006,
                    2007,
                    2008,
                    2009,
                    2010,
                    2011,
                    2012,
                    2013,
                    2014,
                    2015,
                    2016,
                    2017,
                    2018,
                    2019,
                    2020
                  ],
                  "xaxis": "x",
                  "y": [
                    -1.290753841332228,
                    -1.31550790471322,
                    -1.062003868887485,
                    -1.2903827094902933,
                    -1.196518000990874,
                    -1.2536089558318666,
                    -1.2835910500299283,
                    -1.2486134974132657,
                    -1.305872143661985,
                    -1.2775490287188616,
                    -1.3140606701493358,
                    -1.2183949175697142,
                    -0.9890920227256608,
                    -1.261557765024556,
                    -1.2497947484170715,
                    -1.0768943271558968,
                    -1.161525793782375,
                    -1.2210585863814174,
                    -1.1117154745260625,
                    -1.2773903661119834,
                    -1.2567514446686694,
                    -1.267892559869393,
                    -1.2652332999901899,
                    -1.1680923144564308,
                    -1.2195973609275652,
                    -1.2422937328853272,
                    -1.2442670973021117,
                    -1.2485364452971883,
                    -1.1320504976624102,
                    -1.1674315058509488,
                    -1.1701847037577702,
                    -1.1610798299781941,
                    -1.1530320207121008,
                    -0.9365251445604253,
                    -0.8323141887013512,
                    -0.5598683502201888,
                    -0.35231339240882176,
                    -0.3921406356335676,
                    -0.3189232819419276,
                    -0.36672022489834705,
                    -0.3756735632038023,
                    -0.25352106142839137,
                    -0.0889024521419024,
                    -0.05096021441161555,
                    0.006952306561380476,
                    0.04373406456216155,
                    0.18424836428550898,
                    0.18757657976416514,
                    0.26411065140203455,
                    0.3390024646393437,
                    0.34156245567551086,
                    0.34337377008789344,
                    0.43722400750813956,
                    0.23525037509807292,
                    0.3591684317638689,
                    0.4085810889336642,
                    0.4091365586867947,
                    0.41128598512282194,
                    0.42485876778627485,
                    0.4265332273319437,
                    0.4045961972264225,
                    0.42848139661104007,
                    0.4294957326819743,
                    0.5022622703420881,
                    0.4654805123413072,
                    0.4927468319623718,
                    0.5945488944661754,
                    0.5904618260484912,
                    0.5702710888123435,
                    0.6476987422269882,
                    0.68974043343077,
                    0.7543730856869026,
                    0.7545421416987251,
                    0.8542368869562589,
                    0.8416542895049084,
                    0.8466293664242525,
                    0.8793779310001282,
                    0.8944722177699825,
                    0.960347504064969,
                    0.9326087945017921,
                    1.0324037952162657,
                    1.0278332602389995,
                    1.0264280362144251,
                    1.0576664992199252,
                    1.1388225571435227,
                    1.1562359456140174,
                    1.1447426138212586,
                    1.1232136491319804,
                    1.1623688230467122,
                    1.2246462757983794,
                    1.2525274027974782,
                    1.2210166008790029,
                    1.2882550998781463,
                    1.36051820647678,
                    1.4164257907295974,
                    1.5587507557060805,
                    1.7334273706357264,
                    1.7350063173112928,
                    1.829692094971216,
                    1.783584658024506
                  ],
                  "yaxis": "y"
                }
              ],
              "layout": {
                "legend": {
                  "title": {
                    "text": "variable"
                  },
                  "tracegroupgap": 0
                },
                "margin": {
                  "t": 60
                },
                "template": {
                  "data": {
                    "bar": [
                      {
                        "error_x": {
                          "color": "#2a3f5f"
                        },
                        "error_y": {
                          "color": "#2a3f5f"
                        },
                        "marker": {
                          "line": {
                            "color": "#E5ECF6",
                            "width": 0.5
                          },
                          "pattern": {
                            "fillmode": "overlay",
                            "size": 10,
                            "solidity": 0.2
                          }
                        },
                        "type": "bar"
                      }
                    ],
                    "barpolar": [
                      {
                        "marker": {
                          "line": {
                            "color": "#E5ECF6",
                            "width": 0.5
                          },
                          "pattern": {
                            "fillmode": "overlay",
                            "size": 10,
                            "solidity": 0.2
                          }
                        },
                        "type": "barpolar"
                      }
                    ],
                    "carpet": [
                      {
                        "aaxis": {
                          "endlinecolor": "#2a3f5f",
                          "gridcolor": "white",
                          "linecolor": "white",
                          "minorgridcolor": "white",
                          "startlinecolor": "#2a3f5f"
                        },
                        "baxis": {
                          "endlinecolor": "#2a3f5f",
                          "gridcolor": "white",
                          "linecolor": "white",
                          "minorgridcolor": "white",
                          "startlinecolor": "#2a3f5f"
                        },
                        "type": "carpet"
                      }
                    ],
                    "choropleth": [
                      {
                        "colorbar": {
                          "outlinewidth": 0,
                          "ticks": ""
                        },
                        "type": "choropleth"
                      }
                    ],
                    "contour": [
                      {
                        "colorbar": {
                          "outlinewidth": 0,
                          "ticks": ""
                        },
                        "colorscale": [
                          [
                            0,
                            "#0d0887"
                          ],
                          [
                            0.1111111111111111,
                            "#46039f"
                          ],
                          [
                            0.2222222222222222,
                            "#7201a8"
                          ],
                          [
                            0.3333333333333333,
                            "#9c179e"
                          ],
                          [
                            0.4444444444444444,
                            "#bd3786"
                          ],
                          [
                            0.5555555555555556,
                            "#d8576b"
                          ],
                          [
                            0.6666666666666666,
                            "#ed7953"
                          ],
                          [
                            0.7777777777777778,
                            "#fb9f3a"
                          ],
                          [
                            0.8888888888888888,
                            "#fdca26"
                          ],
                          [
                            1,
                            "#f0f921"
                          ]
                        ],
                        "type": "contour"
                      }
                    ],
                    "contourcarpet": [
                      {
                        "colorbar": {
                          "outlinewidth": 0,
                          "ticks": ""
                        },
                        "type": "contourcarpet"
                      }
                    ],
                    "heatmap": [
                      {
                        "colorbar": {
                          "outlinewidth": 0,
                          "ticks": ""
                        },
                        "colorscale": [
                          [
                            0,
                            "#0d0887"
                          ],
                          [
                            0.1111111111111111,
                            "#46039f"
                          ],
                          [
                            0.2222222222222222,
                            "#7201a8"
                          ],
                          [
                            0.3333333333333333,
                            "#9c179e"
                          ],
                          [
                            0.4444444444444444,
                            "#bd3786"
                          ],
                          [
                            0.5555555555555556,
                            "#d8576b"
                          ],
                          [
                            0.6666666666666666,
                            "#ed7953"
                          ],
                          [
                            0.7777777777777778,
                            "#fb9f3a"
                          ],
                          [
                            0.8888888888888888,
                            "#fdca26"
                          ],
                          [
                            1,
                            "#f0f921"
                          ]
                        ],
                        "type": "heatmap"
                      }
                    ],
                    "heatmapgl": [
                      {
                        "colorbar": {
                          "outlinewidth": 0,
                          "ticks": ""
                        },
                        "colorscale": [
                          [
                            0,
                            "#0d0887"
                          ],
                          [
                            0.1111111111111111,
                            "#46039f"
                          ],
                          [
                            0.2222222222222222,
                            "#7201a8"
                          ],
                          [
                            0.3333333333333333,
                            "#9c179e"
                          ],
                          [
                            0.4444444444444444,
                            "#bd3786"
                          ],
                          [
                            0.5555555555555556,
                            "#d8576b"
                          ],
                          [
                            0.6666666666666666,
                            "#ed7953"
                          ],
                          [
                            0.7777777777777778,
                            "#fb9f3a"
                          ],
                          [
                            0.8888888888888888,
                            "#fdca26"
                          ],
                          [
                            1,
                            "#f0f921"
                          ]
                        ],
                        "type": "heatmapgl"
                      }
                    ],
                    "histogram": [
                      {
                        "marker": {
                          "pattern": {
                            "fillmode": "overlay",
                            "size": 10,
                            "solidity": 0.2
                          }
                        },
                        "type": "histogram"
                      }
                    ],
                    "histogram2d": [
                      {
                        "colorbar": {
                          "outlinewidth": 0,
                          "ticks": ""
                        },
                        "colorscale": [
                          [
                            0,
                            "#0d0887"
                          ],
                          [
                            0.1111111111111111,
                            "#46039f"
                          ],
                          [
                            0.2222222222222222,
                            "#7201a8"
                          ],
                          [
                            0.3333333333333333,
                            "#9c179e"
                          ],
                          [
                            0.4444444444444444,
                            "#bd3786"
                          ],
                          [
                            0.5555555555555556,
                            "#d8576b"
                          ],
                          [
                            0.6666666666666666,
                            "#ed7953"
                          ],
                          [
                            0.7777777777777778,
                            "#fb9f3a"
                          ],
                          [
                            0.8888888888888888,
                            "#fdca26"
                          ],
                          [
                            1,
                            "#f0f921"
                          ]
                        ],
                        "type": "histogram2d"
                      }
                    ],
                    "histogram2dcontour": [
                      {
                        "colorbar": {
                          "outlinewidth": 0,
                          "ticks": ""
                        },
                        "colorscale": [
                          [
                            0,
                            "#0d0887"
                          ],
                          [
                            0.1111111111111111,
                            "#46039f"
                          ],
                          [
                            0.2222222222222222,
                            "#7201a8"
                          ],
                          [
                            0.3333333333333333,
                            "#9c179e"
                          ],
                          [
                            0.4444444444444444,
                            "#bd3786"
                          ],
                          [
                            0.5555555555555556,
                            "#d8576b"
                          ],
                          [
                            0.6666666666666666,
                            "#ed7953"
                          ],
                          [
                            0.7777777777777778,
                            "#fb9f3a"
                          ],
                          [
                            0.8888888888888888,
                            "#fdca26"
                          ],
                          [
                            1,
                            "#f0f921"
                          ]
                        ],
                        "type": "histogram2dcontour"
                      }
                    ],
                    "mesh3d": [
                      {
                        "colorbar": {
                          "outlinewidth": 0,
                          "ticks": ""
                        },
                        "type": "mesh3d"
                      }
                    ],
                    "parcoords": [
                      {
                        "line": {
                          "colorbar": {
                            "outlinewidth": 0,
                            "ticks": ""
                          }
                        },
                        "type": "parcoords"
                      }
                    ],
                    "pie": [
                      {
                        "automargin": true,
                        "type": "pie"
                      }
                    ],
                    "scatter": [
                      {
                        "marker": {
                          "colorbar": {
                            "outlinewidth": 0,
                            "ticks": ""
                          }
                        },
                        "type": "scatter"
                      }
                    ],
                    "scatter3d": [
                      {
                        "line": {
                          "colorbar": {
                            "outlinewidth": 0,
                            "ticks": ""
                          }
                        },
                        "marker": {
                          "colorbar": {
                            "outlinewidth": 0,
                            "ticks": ""
                          }
                        },
                        "type": "scatter3d"
                      }
                    ],
                    "scattercarpet": [
                      {
                        "marker": {
                          "colorbar": {
                            "outlinewidth": 0,
                            "ticks": ""
                          }
                        },
                        "type": "scattercarpet"
                      }
                    ],
                    "scattergeo": [
                      {
                        "marker": {
                          "colorbar": {
                            "outlinewidth": 0,
                            "ticks": ""
                          }
                        },
                        "type": "scattergeo"
                      }
                    ],
                    "scattergl": [
                      {
                        "marker": {
                          "colorbar": {
                            "outlinewidth": 0,
                            "ticks": ""
                          }
                        },
                        "type": "scattergl"
                      }
                    ],
                    "scattermapbox": [
                      {
                        "marker": {
                          "colorbar": {
                            "outlinewidth": 0,
                            "ticks": ""
                          }
                        },
                        "type": "scattermapbox"
                      }
                    ],
                    "scatterpolar": [
                      {
                        "marker": {
                          "colorbar": {
                            "outlinewidth": 0,
                            "ticks": ""
                          }
                        },
                        "type": "scatterpolar"
                      }
                    ],
                    "scatterpolargl": [
                      {
                        "marker": {
                          "colorbar": {
                            "outlinewidth": 0,
                            "ticks": ""
                          }
                        },
                        "type": "scatterpolargl"
                      }
                    ],
                    "scatterternary": [
                      {
                        "marker": {
                          "colorbar": {
                            "outlinewidth": 0,
                            "ticks": ""
                          }
                        },
                        "type": "scatterternary"
                      }
                    ],
                    "surface": [
                      {
                        "colorbar": {
                          "outlinewidth": 0,
                          "ticks": ""
                        },
                        "colorscale": [
                          [
                            0,
                            "#0d0887"
                          ],
                          [
                            0.1111111111111111,
                            "#46039f"
                          ],
                          [
                            0.2222222222222222,
                            "#7201a8"
                          ],
                          [
                            0.3333333333333333,
                            "#9c179e"
                          ],
                          [
                            0.4444444444444444,
                            "#bd3786"
                          ],
                          [
                            0.5555555555555556,
                            "#d8576b"
                          ],
                          [
                            0.6666666666666666,
                            "#ed7953"
                          ],
                          [
                            0.7777777777777778,
                            "#fb9f3a"
                          ],
                          [
                            0.8888888888888888,
                            "#fdca26"
                          ],
                          [
                            1,
                            "#f0f921"
                          ]
                        ],
                        "type": "surface"
                      }
                    ],
                    "table": [
                      {
                        "cells": {
                          "fill": {
                            "color": "#EBF0F8"
                          },
                          "line": {
                            "color": "white"
                          }
                        },
                        "header": {
                          "fill": {
                            "color": "#C8D4E3"
                          },
                          "line": {
                            "color": "white"
                          }
                        },
                        "type": "table"
                      }
                    ]
                  },
                  "layout": {
                    "annotationdefaults": {
                      "arrowcolor": "#2a3f5f",
                      "arrowhead": 0,
                      "arrowwidth": 1
                    },
                    "autotypenumbers": "strict",
                    "coloraxis": {
                      "colorbar": {
                        "outlinewidth": 0,
                        "ticks": ""
                      }
                    },
                    "colorscale": {
                      "diverging": [
                        [
                          0,
                          "#8e0152"
                        ],
                        [
                          0.1,
                          "#c51b7d"
                        ],
                        [
                          0.2,
                          "#de77ae"
                        ],
                        [
                          0.3,
                          "#f1b6da"
                        ],
                        [
                          0.4,
                          "#fde0ef"
                        ],
                        [
                          0.5,
                          "#f7f7f7"
                        ],
                        [
                          0.6,
                          "#e6f5d0"
                        ],
                        [
                          0.7,
                          "#b8e186"
                        ],
                        [
                          0.8,
                          "#7fbc41"
                        ],
                        [
                          0.9,
                          "#4d9221"
                        ],
                        [
                          1,
                          "#276419"
                        ]
                      ],
                      "sequential": [
                        [
                          0,
                          "#0d0887"
                        ],
                        [
                          0.1111111111111111,
                          "#46039f"
                        ],
                        [
                          0.2222222222222222,
                          "#7201a8"
                        ],
                        [
                          0.3333333333333333,
                          "#9c179e"
                        ],
                        [
                          0.4444444444444444,
                          "#bd3786"
                        ],
                        [
                          0.5555555555555556,
                          "#d8576b"
                        ],
                        [
                          0.6666666666666666,
                          "#ed7953"
                        ],
                        [
                          0.7777777777777778,
                          "#fb9f3a"
                        ],
                        [
                          0.8888888888888888,
                          "#fdca26"
                        ],
                        [
                          1,
                          "#f0f921"
                        ]
                      ],
                      "sequentialminus": [
                        [
                          0,
                          "#0d0887"
                        ],
                        [
                          0.1111111111111111,
                          "#46039f"
                        ],
                        [
                          0.2222222222222222,
                          "#7201a8"
                        ],
                        [
                          0.3333333333333333,
                          "#9c179e"
                        ],
                        [
                          0.4444444444444444,
                          "#bd3786"
                        ],
                        [
                          0.5555555555555556,
                          "#d8576b"
                        ],
                        [
                          0.6666666666666666,
                          "#ed7953"
                        ],
                        [
                          0.7777777777777778,
                          "#fb9f3a"
                        ],
                        [
                          0.8888888888888888,
                          "#fdca26"
                        ],
                        [
                          1,
                          "#f0f921"
                        ]
                      ]
                    },
                    "colorway": [
                      "#636efa",
                      "#EF553B",
                      "#00cc96",
                      "#ab63fa",
                      "#FFA15A",
                      "#19d3f3",
                      "#FF6692",
                      "#B6E880",
                      "#FF97FF",
                      "#FECB52"
                    ],
                    "font": {
                      "color": "#2a3f5f"
                    },
                    "geo": {
                      "bgcolor": "white",
                      "lakecolor": "white",
                      "landcolor": "#E5ECF6",
                      "showlakes": true,
                      "showland": true,
                      "subunitcolor": "white"
                    },
                    "hoverlabel": {
                      "align": "left"
                    },
                    "hovermode": "closest",
                    "mapbox": {
                      "style": "light"
                    },
                    "paper_bgcolor": "white",
                    "plot_bgcolor": "#E5ECF6",
                    "polar": {
                      "angularaxis": {
                        "gridcolor": "white",
                        "linecolor": "white",
                        "ticks": ""
                      },
                      "bgcolor": "#E5ECF6",
                      "radialaxis": {
                        "gridcolor": "white",
                        "linecolor": "white",
                        "ticks": ""
                      }
                    },
                    "scene": {
                      "xaxis": {
                        "backgroundcolor": "#E5ECF6",
                        "gridcolor": "white",
                        "gridwidth": 2,
                        "linecolor": "white",
                        "showbackground": true,
                        "ticks": "",
                        "zerolinecolor": "white"
                      },
                      "yaxis": {
                        "backgroundcolor": "#E5ECF6",
                        "gridcolor": "white",
                        "gridwidth": 2,
                        "linecolor": "white",
                        "showbackground": true,
                        "ticks": "",
                        "zerolinecolor": "white"
                      },
                      "zaxis": {
                        "backgroundcolor": "#E5ECF6",
                        "gridcolor": "white",
                        "gridwidth": 2,
                        "linecolor": "white",
                        "showbackground": true,
                        "ticks": "",
                        "zerolinecolor": "white"
                      }
                    },
                    "shapedefaults": {
                      "line": {
                        "color": "#2a3f5f"
                      }
                    },
                    "ternary": {
                      "aaxis": {
                        "gridcolor": "white",
                        "linecolor": "white",
                        "ticks": ""
                      },
                      "baxis": {
                        "gridcolor": "white",
                        "linecolor": "white",
                        "ticks": ""
                      },
                      "bgcolor": "#E5ECF6",
                      "caxis": {
                        "gridcolor": "white",
                        "linecolor": "white",
                        "ticks": ""
                      }
                    },
                    "title": {
                      "x": 0.05
                    },
                    "xaxis": {
                      "automargin": true,
                      "gridcolor": "white",
                      "linecolor": "white",
                      "ticks": "",
                      "title": {
                        "standoff": 15
                      },
                      "zerolinecolor": "white",
                      "zerolinewidth": 2
                    },
                    "yaxis": {
                      "automargin": true,
                      "gridcolor": "white",
                      "linecolor": "white",
                      "ticks": "",
                      "title": {
                        "standoff": 15
                      },
                      "zerolinecolor": "white",
                      "zerolinewidth": 2
                    }
                  }
                },
                "xaxis": {
                  "anchor": "y",
                  "domain": [
                    0,
                    1
                  ],
                  "title": {
                    "text": "year"
                  }
                },
                "yaxis": {
                  "anchor": "x",
                  "domain": [
                    0,
                    1
                  ],
                  "title": {
                    "text": "value"
                  }
                }
              }
            }
          },
          "metadata": {},
          "output_type": "display_data"
        }
      ],
      "source": [
        "import plotly.express as px \n",
        "fig = px.line(data_year_normalized, x='year', y=numerical_features)\n",
        "\n",
        "fig.show()"
      ]
    },
    {
      "cell_type": "code",
      "execution_count": 11,
      "metadata": {},
      "outputs": [
        {
          "data": {
            "image/png": "[encoded data removed]",
            "text/plain": [
              "<Figure size 1600x480 with 1 Axes>"
            ]
          },
          "metadata": {},
          "output_type": "display_data"
        }
      ],
      "source": [
        "import plotly.express as px \n",
        "figure(figsize=(20, 6), dpi=80)\n",
        "\n",
        "sound_features = ['acousticness', 'danceability', 'energy', 'instrumentalness', 'liveness', 'speechiness', 'valence']\n",
        "color = cm.rainbow(np.linspace(0, 1, len(sound_features)))\n",
        "\n",
        "for i, c in zip(range(len(sound_features)), color):\n",
        "    plt.plot(data_year['year'], data_year[sound_features[i]], label=sound_features[i], color=c)\n",
        "\n",
        "#plt.plot(data_year_normalized['year'], data_year_normalized[numerical_features], label=numerical_features)\n",
        "plt.legend(loc = 'upper right')\n",
        "plt.show()"
      ]
    },
    {
      "cell_type": "code",
      "execution_count": 12,
      "metadata": {},
      "outputs": [
        {
          "data": {
            "text/plain": [
              "[<matplotlib.lines.Line2D at 0x7fadcc0605e0>]"
            ]
          },
          "execution_count": 12,
          "metadata": {},
          "output_type": "execute_result"
        },
        {
          "data": {
            "image/png": "[encoded data removed]",
            "text/plain": [
              "<Figure size 1600x480 with 1 Axes>"
            ]
          },
          "metadata": {},
          "output_type": "display_data"
        }
      ],
      "source": [
        "figure(figsize=(20, 6), dpi=80)\n",
        "plt.plot(data_year['year'], data_year['tempo'])"
      ]
    },
    {
      "cell_type": "code",
      "execution_count": 13,
      "metadata": {},
      "outputs": [
        {
          "data": {
            "application/vnd.plotly.v1+json": {
              "config": {
                "plotlyServerURL": "https://plot.ly"
              },
              "data": [
                {
                  "alignmentgroup": "True",
                  "hovertemplate": "variable=valence<br>genres=%{x}<br>value=%{y}<extra></extra>",
                  "legendgroup": "valence",
                  "marker": {
                    "color": "#636efa",
                    "pattern": {
                      "shape": ""
                    }
                  },
                  "name": "valence",
                  "offsetgroup": "valence",
                  "orientation": "v",
                  "showlegend": true,
                  "textposition": "auto",
                  "type": "bar",
                  "x": [
                    "basshall",
                    "south african house",
                    "trap venezolano",
                    "turkish edm",
                    "alberta hip hop",
                    "chinese electropop",
                    "afroswing",
                    "afro soul",
                    "circuit",
                    "guaracha"
                  ],
                  "xaxis": "x",
                  "y": [
                    0.5886666666666667,
                    0.8343333333333334,
                    0.706,
                    0.364,
                    0.937,
                    0.199,
                    0.676625,
                    0.743,
                    0.556,
                    0.556
                  ],
                  "yaxis": "y"
                },
                {
                  "alignmentgroup": "True",
                  "hovertemplate": "variable=energy<br>genres=%{x}<br>value=%{y}<extra></extra>",
                  "legendgroup": "energy",
                  "marker": {
                    "color": "#EF553B",
                    "pattern": {
                      "shape": ""
                    }
                  },
                  "name": "energy",
                  "offsetgroup": "energy",
                  "orientation": "v",
                  "showlegend": true,
                  "textposition": "auto",
                  "type": "bar",
                  "x": [
                    "basshall",
                    "south african house",
                    "trap venezolano",
                    "turkish edm",
                    "alberta hip hop",
                    "chinese electropop",
                    "afroswing",
                    "afro soul",
                    "circuit",
                    "guaracha"
                  ],
                  "xaxis": "x",
                  "y": [
                    0.6301666666666668,
                    0.5623333333333332,
                    0.777,
                    0.7190000000000001,
                    0.685,
                    0.787,
                    0.5801875,
                    0.873,
                    0.972,
                    0.972
                  ],
                  "yaxis": "y"
                },
                {
                  "alignmentgroup": "True",
                  "hovertemplate": "variable=danceability<br>genres=%{x}<br>value=%{y}<extra></extra>",
                  "legendgroup": "danceability",
                  "marker": {
                    "color": "#00cc96",
                    "pattern": {
                      "shape": ""
                    }
                  },
                  "name": "danceability",
                  "offsetgroup": "danceability",
                  "orientation": "v",
                  "showlegend": true,
                  "textposition": "auto",
                  "type": "bar",
                  "x": [
                    "basshall",
                    "south african house",
                    "trap venezolano",
                    "turkish edm",
                    "alberta hip hop",
                    "chinese electropop",
                    "afroswing",
                    "afro soul",
                    "circuit",
                    "guaracha"
                  ],
                  "xaxis": "x",
                  "y": [
                    0.8180000000000001,
                    0.847,
                    0.877,
                    0.698,
                    0.885,
                    0.66,
                    0.71175,
                    0.7659999999999999,
                    0.745,
                    0.745
                  ],
                  "yaxis": "y"
                },
                {
                  "alignmentgroup": "True",
                  "hovertemplate": "variable=acousticness<br>genres=%{x}<br>value=%{y}<extra></extra>",
                  "legendgroup": "acousticness",
                  "marker": {
                    "color": "#ab63fa",
                    "pattern": {
                      "shape": ""
                    }
                  },
                  "name": "acousticness",
                  "offsetgroup": "acousticness",
                  "orientation": "v",
                  "showlegend": true,
                  "textposition": "auto",
                  "type": "bar",
                  "x": [
                    "basshall",
                    "south african house",
                    "trap venezolano",
                    "turkish edm",
                    "alberta hip hop",
                    "chinese electropop",
                    "afroswing",
                    "afro soul",
                    "circuit",
                    "guaracha"
                  ],
                  "xaxis": "x",
                  "y": [
                    0.2131666666666666,
                    0.0438333333333333,
                    0.0446,
                    0.00829,
                    0.33,
                    0.00257,
                    0.31845,
                    0.00627,
                    0.00903,
                    0.00903
                  ],
                  "yaxis": "y"
                }
              ],
              "layout": {
                "barmode": "group",
                "legend": {
                  "title": {
                    "text": "variable"
                  },
                  "tracegroupgap": 0
                },
                "margin": {
                  "t": 60
                },
                "template": {
                  "data": {
                    "bar": [
                      {
                        "error_x": {
                          "color": "#2a3f5f"
                        },
                        "error_y": {
                          "color": "#2a3f5f"
                        },
                        "marker": {
                          "line": {
                            "color": "#E5ECF6",
                            "width": 0.5
                          },
                          "pattern": {
                            "fillmode": "overlay",
                            "size": 10,
                            "solidity": 0.2
                          }
                        },
                        "type": "bar"
                      }
                    ],
                    "barpolar": [
                      {
                        "marker": {
                          "line": {
                            "color": "#E5ECF6",
                            "width": 0.5
                          },
                          "pattern": {
                            "fillmode": "overlay",
                            "size": 10,
                            "solidity": 0.2
                          }
                        },
                        "type": "barpolar"
                      }
                    ],
                    "carpet": [
                      {
                        "aaxis": {
                          "endlinecolor": "#2a3f5f",
                          "gridcolor": "white",
                          "linecolor": "white",
                          "minorgridcolor": "white",
                          "startlinecolor": "#2a3f5f"
                        },
                        "baxis": {
                          "endlinecolor": "#2a3f5f",
                          "gridcolor": "white",
                          "linecolor": "white",
                          "minorgridcolor": "white",
                          "startlinecolor": "#2a3f5f"
                        },
                        "type": "carpet"
                      }
                    ],
                    "choropleth": [
                      {
                        "colorbar": {
                          "outlinewidth": 0,
                          "ticks": ""
                        },
                        "type": "choropleth"
                      }
                    ],
                    "contour": [
                      {
                        "colorbar": {
                          "outlinewidth": 0,
                          "ticks": ""
                        },
                        "colorscale": [
                          [
                            0,
                            "#0d0887"
                          ],
                          [
                            0.1111111111111111,
                            "#46039f"
                          ],
                          [
                            0.2222222222222222,
                            "#7201a8"
                          ],
                          [
                            0.3333333333333333,
                            "#9c179e"
                          ],
                          [
                            0.4444444444444444,
                            "#bd3786"
                          ],
                          [
                            0.5555555555555556,
                            "#d8576b"
                          ],
                          [
                            0.6666666666666666,
                            "#ed7953"
                          ],
                          [
                            0.7777777777777778,
                            "#fb9f3a"
                          ],
                          [
                            0.8888888888888888,
                            "#fdca26"
                          ],
                          [
                            1,
                            "#f0f921"
                          ]
                        ],
                        "type": "contour"
                      }
                    ],
                    "contourcarpet": [
                      {
                        "colorbar": {
                          "outlinewidth": 0,
                          "ticks": ""
                        },
                        "type": "contourcarpet"
                      }
                    ],
                    "heatmap": [
                      {
                        "colorbar": {
                          "outlinewidth": 0,
                          "ticks": ""
                        },
                        "colorscale": [
                          [
                            0,
                            "#0d0887"
                          ],
                          [
                            0.1111111111111111,
                            "#46039f"
                          ],
                          [
                            0.2222222222222222,
                            "#7201a8"
                          ],
                          [
                            0.3333333333333333,
                            "#9c179e"
                          ],
                          [
                            0.4444444444444444,
                            "#bd3786"
                          ],
                          [
                            0.5555555555555556,
                            "#d8576b"
                          ],
                          [
                            0.6666666666666666,
                            "#ed7953"
                          ],
                          [
                            0.7777777777777778,
                            "#fb9f3a"
                          ],
                          [
                            0.8888888888888888,
                            "#fdca26"
                          ],
                          [
                            1,
                            "#f0f921"
                          ]
                        ],
                        "type": "heatmap"
                      }
                    ],
                    "heatmapgl": [
                      {
                        "colorbar": {
                          "outlinewidth": 0,
                          "ticks": ""
                        },
                        "colorscale": [
                          [
                            0,
                            "#0d0887"
                          ],
                          [
                            0.1111111111111111,
                            "#46039f"
                          ],
                          [
                            0.2222222222222222,
                            "#7201a8"
                          ],
                          [
                            0.3333333333333333,
                            "#9c179e"
                          ],
                          [
                            0.4444444444444444,
                            "#bd3786"
                          ],
                          [
                            0.5555555555555556,
                            "#d8576b"
                          ],
                          [
                            0.6666666666666666,
                            "#ed7953"
                          ],
                          [
                            0.7777777777777778,
                            "#fb9f3a"
                          ],
                          [
                            0.8888888888888888,
                            "#fdca26"
                          ],
                          [
                            1,
                            "#f0f921"
                          ]
                        ],
                        "type": "heatmapgl"
                      }
                    ],
                    "histogram": [
                      {
                        "marker": {
                          "pattern": {
                            "fillmode": "overlay",
                            "size": 10,
                            "solidity": 0.2
                          }
                        },
                        "type": "histogram"
                      }
                    ],
                    "histogram2d": [
                      {
                        "colorbar": {
                          "outlinewidth": 0,
                          "ticks": ""
                        },
                        "colorscale": [
                          [
                            0,
                            "#0d0887"
                          ],
                          [
                            0.1111111111111111,
                            "#46039f"
                          ],
                          [
                            0.2222222222222222,
                            "#7201a8"
                          ],
                          [
                            0.3333333333333333,
                            "#9c179e"
                          ],
                          [
                            0.4444444444444444,
                            "#bd3786"
                          ],
                          [
                            0.5555555555555556,
                            "#d8576b"
                          ],
                          [
                            0.6666666666666666,
                            "#ed7953"
                          ],
                          [
                            0.7777777777777778,
                            "#fb9f3a"
                          ],
                          [
                            0.8888888888888888,
                            "#fdca26"
                          ],
                          [
                            1,
                            "#f0f921"
                          ]
                        ],
                        "type": "histogram2d"
                      }
                    ],
                    "histogram2dcontour": [
                      {
                        "colorbar": {
                          "outlinewidth": 0,
                          "ticks": ""
                        },
                        "colorscale": [
                          [
                            0,
                            "#0d0887"
                          ],
                          [
                            0.1111111111111111,
                            "#46039f"
                          ],
                          [
                            0.2222222222222222,
                            "#7201a8"
                          ],
                          [
                            0.3333333333333333,
                            "#9c179e"
                          ],
                          [
                            0.4444444444444444,
                            "#bd3786"
                          ],
                          [
                            0.5555555555555556,
                            "#d8576b"
                          ],
                          [
                            0.6666666666666666,
                            "#ed7953"
                          ],
                          [
                            0.7777777777777778,
                            "#fb9f3a"
                          ],
                          [
                            0.8888888888888888,
                            "#fdca26"
                          ],
                          [
                            1,
                            "#f0f921"
                          ]
                        ],
                        "type": "histogram2dcontour"
                      }
                    ],
                    "mesh3d": [
                      {
                        "colorbar": {
                          "outlinewidth": 0,
                          "ticks": ""
                        },
                        "type": "mesh3d"
                      }
                    ],
                    "parcoords": [
                      {
                        "line": {
                          "colorbar": {
                            "outlinewidth": 0,
                            "ticks": ""
                          }
                        },
                        "type": "parcoords"
                      }
                    ],
                    "pie": [
                      {
                        "automargin": true,
                        "type": "pie"
                      }
                    ],
                    "scatter": [
                      {
                        "marker": {
                          "colorbar": {
                            "outlinewidth": 0,
                            "ticks": ""
                          }
                        },
                        "type": "scatter"
                      }
                    ],
                    "scatter3d": [
                      {
                        "line": {
                          "colorbar": {
                            "outlinewidth": 0,
                            "ticks": ""
                          }
                        },
                        "marker": {
                          "colorbar": {
                            "outlinewidth": 0,
                            "ticks": ""
                          }
                        },
                        "type": "scatter3d"
                      }
                    ],
                    "scattercarpet": [
                      {
                        "marker": {
                          "colorbar": {
                            "outlinewidth": 0,
                            "ticks": ""
                          }
                        },
                        "type": "scattercarpet"
                      }
                    ],
                    "scattergeo": [
                      {
                        "marker": {
                          "colorbar": {
                            "outlinewidth": 0,
                            "ticks": ""
                          }
                        },
                        "type": "scattergeo"
                      }
                    ],
                    "scattergl": [
                      {
                        "marker": {
                          "colorbar": {
                            "outlinewidth": 0,
                            "ticks": ""
                          }
                        },
                        "type": "scattergl"
                      }
                    ],
                    "scattermapbox": [
                      {
                        "marker": {
                          "colorbar": {
                            "outlinewidth": 0,
                            "ticks": ""
                          }
                        },
                        "type": "scattermapbox"
                      }
                    ],
                    "scatterpolar": [
                      {
                        "marker": {
                          "colorbar": {
                            "outlinewidth": 0,
                            "ticks": ""
                          }
                        },
                        "type": "scatterpolar"
                      }
                    ],
                    "scatterpolargl": [
                      {
                        "marker": {
                          "colorbar": {
                            "outlinewidth": 0,
                            "ticks": ""
                          }
                        },
                        "type": "scatterpolargl"
                      }
                    ],
                    "scatterternary": [
                      {
                        "marker": {
                          "colorbar": {
                            "outlinewidth": 0,
                            "ticks": ""
                          }
                        },
                        "type": "scatterternary"
                      }
                    ],
                    "surface": [
                      {
                        "colorbar": {
                          "outlinewidth": 0,
                          "ticks": ""
                        },
                        "colorscale": [
                          [
                            0,
                            "#0d0887"
                          ],
                          [
                            0.1111111111111111,
                            "#46039f"
                          ],
                          [
                            0.2222222222222222,
                            "#7201a8"
                          ],
                          [
                            0.3333333333333333,
                            "#9c179e"
                          ],
                          [
                            0.4444444444444444,
                            "#bd3786"
                          ],
                          [
                            0.5555555555555556,
                            "#d8576b"
                          ],
                          [
                            0.6666666666666666,
                            "#ed7953"
                          ],
                          [
                            0.7777777777777778,
                            "#fb9f3a"
                          ],
                          [
                            0.8888888888888888,
                            "#fdca26"
                          ],
                          [
                            1,
                            "#f0f921"
                          ]
                        ],
                        "type": "surface"
                      }
                    ],
                    "table": [
                      {
                        "cells": {
                          "fill": {
                            "color": "#EBF0F8"
                          },
                          "line": {
                            "color": "white"
                          }
                        },
                        "header": {
                          "fill": {
                            "color": "#C8D4E3"
                          },
                          "line": {
                            "color": "white"
                          }
                        },
                        "type": "table"
                      }
                    ]
                  },
                  "layout": {
                    "annotationdefaults": {
                      "arrowcolor": "#2a3f5f",
                      "arrowhead": 0,
                      "arrowwidth": 1
                    },
                    "autotypenumbers": "strict",
                    "coloraxis": {
                      "colorbar": {
                        "outlinewidth": 0,
                        "ticks": ""
                      }
                    },
                    "colorscale": {
                      "diverging": [
                        [
                          0,
                          "#8e0152"
                        ],
                        [
                          0.1,
                          "#c51b7d"
                        ],
                        [
                          0.2,
                          "#de77ae"
                        ],
                        [
                          0.3,
                          "#f1b6da"
                        ],
                        [
                          0.4,
                          "#fde0ef"
                        ],
                        [
                          0.5,
                          "#f7f7f7"
                        ],
                        [
                          0.6,
                          "#e6f5d0"
                        ],
                        [
                          0.7,
                          "#b8e186"
                        ],
                        [
                          0.8,
                          "#7fbc41"
                        ],
                        [
                          0.9,
                          "#4d9221"
                        ],
                        [
                          1,
                          "#276419"
                        ]
                      ],
                      "sequential": [
                        [
                          0,
                          "#0d0887"
                        ],
                        [
                          0.1111111111111111,
                          "#46039f"
                        ],
                        [
                          0.2222222222222222,
                          "#7201a8"
                        ],
                        [
                          0.3333333333333333,
                          "#9c179e"
                        ],
                        [
                          0.4444444444444444,
                          "#bd3786"
                        ],
                        [
                          0.5555555555555556,
                          "#d8576b"
                        ],
                        [
                          0.6666666666666666,
                          "#ed7953"
                        ],
                        [
                          0.7777777777777778,
                          "#fb9f3a"
                        ],
                        [
                          0.8888888888888888,
                          "#fdca26"
                        ],
                        [
                          1,
                          "#f0f921"
                        ]
                      ],
                      "sequentialminus": [
                        [
                          0,
                          "#0d0887"
                        ],
                        [
                          0.1111111111111111,
                          "#46039f"
                        ],
                        [
                          0.2222222222222222,
                          "#7201a8"
                        ],
                        [
                          0.3333333333333333,
                          "#9c179e"
                        ],
                        [
                          0.4444444444444444,
                          "#bd3786"
                        ],
                        [
                          0.5555555555555556,
                          "#d8576b"
                        ],
                        [
                          0.6666666666666666,
                          "#ed7953"
                        ],
                        [
                          0.7777777777777778,
                          "#fb9f3a"
                        ],
                        [
                          0.8888888888888888,
                          "#fdca26"
                        ],
                        [
                          1,
                          "#f0f921"
                        ]
                      ]
                    },
                    "colorway": [
                      "#636efa",
                      "#EF553B",
                      "#00cc96",
                      "#ab63fa",
                      "#FFA15A",
                      "#19d3f3",
                      "#FF6692",
                      "#B6E880",
                      "#FF97FF",
                      "#FECB52"
                    ],
                    "font": {
                      "color": "#2a3f5f"
                    },
                    "geo": {
                      "bgcolor": "white",
                      "lakecolor": "white",
                      "landcolor": "#E5ECF6",
                      "showlakes": true,
                      "showland": true,
                      "subunitcolor": "white"
                    },
                    "hoverlabel": {
                      "align": "left"
                    },
                    "hovermode": "closest",
                    "mapbox": {
                      "style": "light"
                    },
                    "paper_bgcolor": "white",
                    "plot_bgcolor": "#E5ECF6",
                    "polar": {
                      "angularaxis": {
                        "gridcolor": "white",
                        "linecolor": "white",
                        "ticks": ""
                      },
                      "bgcolor": "#E5ECF6",
                      "radialaxis": {
                        "gridcolor": "white",
                        "linecolor": "white",
                        "ticks": ""
                      }
                    },
                    "scene": {
                      "xaxis": {
                        "backgroundcolor": "#E5ECF6",
                        "gridcolor": "white",
                        "gridwidth": 2,
                        "linecolor": "white",
                        "showbackground": true,
                        "ticks": "",
                        "zerolinecolor": "white"
                      },
                      "yaxis": {
                        "backgroundcolor": "#E5ECF6",
                        "gridcolor": "white",
                        "gridwidth": 2,
                        "linecolor": "white",
                        "showbackground": true,
                        "ticks": "",
                        "zerolinecolor": "white"
                      },
                      "zaxis": {
                        "backgroundcolor": "#E5ECF6",
                        "gridcolor": "white",
                        "gridwidth": 2,
                        "linecolor": "white",
                        "showbackground": true,
                        "ticks": "",
                        "zerolinecolor": "white"
                      }
                    },
                    "shapedefaults": {
                      "line": {
                        "color": "#2a3f5f"
                      }
                    },
                    "ternary": {
                      "aaxis": {
                        "gridcolor": "white",
                        "linecolor": "white",
                        "ticks": ""
                      },
                      "baxis": {
                        "gridcolor": "white",
                        "linecolor": "white",
                        "ticks": ""
                      },
                      "bgcolor": "#E5ECF6",
                      "caxis": {
                        "gridcolor": "white",
                        "linecolor": "white",
                        "ticks": ""
                      }
                    },
                    "title": {
                      "x": 0.05
                    },
                    "xaxis": {
                      "automargin": true,
                      "gridcolor": "white",
                      "linecolor": "white",
                      "ticks": "",
                      "title": {
                        "standoff": 15
                      },
                      "zerolinecolor": "white",
                      "zerolinewidth": 2
                    },
                    "yaxis": {
                      "automargin": true,
                      "gridcolor": "white",
                      "linecolor": "white",
                      "ticks": "",
                      "title": {
                        "standoff": 15
                      },
                      "zerolinecolor": "white",
                      "zerolinewidth": 2
                    }
                  }
                },
                "xaxis": {
                  "anchor": "y",
                  "domain": [
                    0,
                    1
                  ],
                  "title": {
                    "text": "genres"
                  }
                },
                "yaxis": {
                  "anchor": "x",
                  "domain": [
                    0,
                    1
                  ],
                  "title": {
                    "text": "value"
                  }
                }
              }
            }
          },
          "metadata": {},
          "output_type": "display_data"
        }
      ],
      "source": [
        "top10_genres = data_genres.nlargest(10, 'popularity')\n",
        "fig = px.bar(top10_genres, x='genres', y=['valence', 'energy', 'danceability', 'acousticness'], barmode='group')\n",
        "fig.show()"
      ]
    },
    {
      "cell_type": "markdown",
      "metadata": {},
      "source": [
        "# Clustering"
      ]
    },
    {
      "cell_type": "code",
      "execution_count": 3,
      "metadata": {},
      "outputs": [],
      "source": [
        "from sklearn.cluster import KMeans\n",
        "from sklearn.preprocessing import StandardScaler\n",
        "from sklearn.pipeline import Pipeline\n",
        "\n",
        "cluster_pipe = Pipeline([('sclaer', StandardScaler()), ('kmeans', KMeans(n_clusters=5))])\n",
        "\n",
        "X = data_genres.select_dtypes(np.number)\n",
        "cluster_pipe.fit(X)\n",
        "data_genres['cluster'] = cluster_pipe.predict(X)\n"
      ]
    },
    {
      "cell_type": "code",
      "execution_count": 4,
      "metadata": {},
      "outputs": [],
      "source": [
        "from sklearn.decomposition import PCA\n",
        "\n",
        "pca_pipe = Pipeline([('scaler', StandardScaler()), ('PCA', PCA(n_components=2))])\n",
        "X_transform = pca_pipe.fit_transform(X)\n",
        "\n",
        "tmp = pd.DataFrame(columns=['x', 'y'], data=X_transform)\n",
        "tmp['cluster'] = data_genres['cluster']\n",
        "#plt.scatter(tmp['x'], tmp['y'], color=tmp['cluster'])"
      ]
    },
    {
      "cell_type": "code",
      "execution_count": 16,
      "metadata": {},
      "outputs": [
        {
          "name": "stderr",
          "output_type": "stream",
          "text": [
            "/Users/ming-hunghung/opt/anaconda3/lib/python3.8/site-packages/seaborn/_decorators.py:36: FutureWarning:\n",
            "\n",
            "Pass the following variables as keyword args: x, y. From version 0.12, the only valid positional argument will be `data`, and passing other arguments without an explicit keyword will result in an error or misinterpretation.\n",
            "\n"
          ]
        },
        {
          "data": {
            "text/plain": [
              "<Figure size 1200x480 with 0 Axes>"
            ]
          },
          "metadata": {},
          "output_type": "display_data"
        },
        {
          "data": {
            "image/png": "[encoded data removed]",
            "text/plain": [
              "<Figure size 405.725x360 with 1 Axes>"
            ]
          },
          "metadata": {},
          "output_type": "display_data"
        }
      ],
      "source": [
        "figure(figsize=(15, 6), dpi=80)\n",
        "sns.lmplot('x', 'y', data=tmp, hue='cluster', fit_reg=False)\n",
        "plt.title('K-Means with genres')\n",
        "plt.show()"
      ]
    },
    {
      "cell_type": "code",
      "execution_count": 17,
      "metadata": {},
      "outputs": [],
      "source": [
        "song_cluster_pipe = Pipeline([('sclaer', StandardScaler()), ('kmeans', KMeans(n_clusters=5))])\n",
        "\n",
        "cols = ['danceability', 'energy', 'key', 'loudness', 'mode', 'speechiness',\n",
        "       'acousticness', 'instrumentalness', 'liveness', 'valence', 'tempo', 'duration_ms',\n",
        "       'year', 'popularity']\n",
        "X = data[cols]\n",
        "song_cluster_pipe.fit(X)\n",
        "data['cluster'] = song_cluster_pipe.predict(X)"
      ]
    },
    {
      "cell_type": "code",
      "execution_count": 18,
      "metadata": {},
      "outputs": [
        {
          "name": "stderr",
          "output_type": "stream",
          "text": [
            "/Users/ming-hunghung/opt/anaconda3/lib/python3.8/site-packages/seaborn/_decorators.py:36: FutureWarning:\n",
            "\n",
            "Pass the following variables as keyword args: x, y. From version 0.12, the only valid positional argument will be `data`, and passing other arguments without an explicit keyword will result in an error or misinterpretation.\n",
            "\n"
          ]
        },
        {
          "data": {
            "text/plain": [
              "<Figure size 1200x480 with 0 Axes>"
            ]
          },
          "metadata": {},
          "output_type": "display_data"
        },
        {
          "data": {
            "image/png": "[encoded data removed]",
            "text/plain": [
              "<Figure size 405.725x360 with 1 Axes>"
            ]
          },
          "metadata": {},
          "output_type": "display_data"
        }
      ],
      "source": [
        "pca_pipe = Pipeline([('scaler', StandardScaler()), ('PCA', PCA(n_components=2))])\n",
        "X_transform = pca_pipe.fit_transform(X)\n",
        "\n",
        "tmp = pd.DataFrame(columns=['x', 'y'], data=X_transform)\n",
        "tmp['cluster'] = data['cluster']\n",
        "\n",
        "#plt.scatter(tmp['x'], tmp['y'], color=tmp['cluster'])\n",
        "\n",
        "figure(figsize=(15, 6), dpi=80)\n",
        "sns.lmplot('x', 'y', data=tmp, hue='cluster', fit_reg=False)\n",
        "plt.title('K-Means with song data')\n",
        "plt.show()"
      ]
    }
  ],
  "metadata": {
    "colab": {
      "name": "fancy_recommend.ipynb",
      "provenance": []
    },
    "kernelspec": {
      "display_name": "Python 3",
      "name": "python3"
    },
    "language_info": {
      "codemirror_mode": {
        "name": "ipython",
        "version": 3
      },
      "file_extension": ".py",
      "mimetype": "text/x-python",
      "name": "python",
      "nbconvert_exporter": "python",
      "pygments_lexer": "ipython3",
      "version": "3.8.11"
    }
  },
  "nbformat": 4,
  "nbformat_minor": 0
}
